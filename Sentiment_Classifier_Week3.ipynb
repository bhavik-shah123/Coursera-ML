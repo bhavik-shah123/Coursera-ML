{
  "nbformat": 4,
  "nbformat_minor": 0,
  "metadata": {
    "colab": {
      "name": "Sentiment Classifier_Week3.ipynb",
      "provenance": [],
      "authorship_tag": "ABX9TyPyJIDkHRJYt+0BU4kN5/WC",
      "include_colab_link": true
    },
    "kernelspec": {
      "name": "python3",
      "display_name": "Python 3"
    }
  },
  "cells": [
    {
      "cell_type": "markdown",
      "metadata": {
        "id": "view-in-github",
        "colab_type": "text"
      },
      "source": [
        "<a href=\"https://colab.research.google.com/github/bhavik-shah123/Coursera-ML/blob/master/Sentiment_Classifier_Week3.ipynb\" target=\"_parent\"><img src=\"https://colab.research.google.com/assets/colab-badge.svg\" alt=\"Open In Colab\"/></a>"
      ]
    },
    {
      "cell_type": "code",
      "metadata": {
        "id": "6QWsaSLLwewk",
        "colab_type": "code",
        "outputId": "d55f7764-fe30-4391-eb60-155e6d6756cc",
        "colab": {
          "base_uri": "https://localhost:8080/",
          "height": 121
        }
      },
      "source": [
        "from google.colab import drive\n",
        "drive.mount('/content/drive')"
      ],
      "execution_count": 0,
      "outputs": [
        {
          "output_type": "stream",
          "text": [
            "Go to this URL in a browser: https://accounts.google.com/o/oauth2/auth?client_id=947318989803-6bn6qk8qdgf4n4g3pfee6491hc0brc4i.apps.googleusercontent.com&redirect_uri=urn%3aietf%3awg%3aoauth%3a2.0%3aoob&response_type=code&scope=email%20https%3a%2f%2fwww.googleapis.com%2fauth%2fdocs.test%20https%3a%2f%2fwww.googleapis.com%2fauth%2fdrive%20https%3a%2f%2fwww.googleapis.com%2fauth%2fdrive.photos.readonly%20https%3a%2f%2fwww.googleapis.com%2fauth%2fpeopleapi.readonly\n",
            "\n",
            "Enter your authorization code:\n",
            "··········\n",
            "Mounted at /content/drive\n"
          ],
          "name": "stdout"
        }
      ]
    },
    {
      "cell_type": "code",
      "metadata": {
        "id": "BV_cAE4jwq9N",
        "colab_type": "code",
        "colab": {}
      },
      "source": [
        "import turicreate"
      ],
      "execution_count": 0,
      "outputs": []
    },
    {
      "cell_type": "code",
      "metadata": {
        "id": "xaEyAWIewr7X",
        "colab_type": "code",
        "colab": {}
      },
      "source": [
        "products = turicreate.SFrame('/content/drive/My Drive/Coursera ML/Course1/Week3/amazon_baby.sframe')"
      ],
      "execution_count": 0,
      "outputs": []
    },
    {
      "cell_type": "code",
      "metadata": {
        "id": "TQ4bqvoAw3OD",
        "colab_type": "code",
        "outputId": "c3540ca2-230b-4f8c-e39a-612e2b2600e7",
        "colab": {
          "base_uri": "https://localhost:8080/",
          "height": 439
        }
      },
      "source": [
        "products"
      ],
      "execution_count": 0,
      "outputs": [
        {
          "output_type": "execute_result",
          "data": {
            "text/html": [
              "<div style=\"max-height:1000px;max-width:1500px;overflow:auto;\"><table frame=\"box\" rules=\"cols\">\n",
              "    <tr>\n",
              "        <th style=\"padding-left: 1em; padding-right: 1em; text-align: center\">name</th>\n",
              "        <th style=\"padding-left: 1em; padding-right: 1em; text-align: center\">review</th>\n",
              "        <th style=\"padding-left: 1em; padding-right: 1em; text-align: center\">rating</th>\n",
              "    </tr>\n",
              "    <tr>\n",
              "        <td style=\"padding-left: 1em; padding-right: 1em; text-align: center; vertical-align: top\">Planetwise Flannel Wipes</td>\n",
              "        <td style=\"padding-left: 1em; padding-right: 1em; text-align: center; vertical-align: top\">These flannel wipes are<br>OK, but in my opinion ...</td>\n",
              "        <td style=\"padding-left: 1em; padding-right: 1em; text-align: center; vertical-align: top\">3.0</td>\n",
              "    </tr>\n",
              "    <tr>\n",
              "        <td style=\"padding-left: 1em; padding-right: 1em; text-align: center; vertical-align: top\">Planetwise Wipe Pouch</td>\n",
              "        <td style=\"padding-left: 1em; padding-right: 1em; text-align: center; vertical-align: top\">it came early and was not<br>disappointed. i love ...</td>\n",
              "        <td style=\"padding-left: 1em; padding-right: 1em; text-align: center; vertical-align: top\">5.0</td>\n",
              "    </tr>\n",
              "    <tr>\n",
              "        <td style=\"padding-left: 1em; padding-right: 1em; text-align: center; vertical-align: top\">Annas Dream Full Quilt<br>with 2 Shams ...</td>\n",
              "        <td style=\"padding-left: 1em; padding-right: 1em; text-align: center; vertical-align: top\">Very soft and comfortable<br>and warmer than it ...</td>\n",
              "        <td style=\"padding-left: 1em; padding-right: 1em; text-align: center; vertical-align: top\">5.0</td>\n",
              "    </tr>\n",
              "    <tr>\n",
              "        <td style=\"padding-left: 1em; padding-right: 1em; text-align: center; vertical-align: top\">Stop Pacifier Sucking<br>without tears with ...</td>\n",
              "        <td style=\"padding-left: 1em; padding-right: 1em; text-align: center; vertical-align: top\">This is a product well<br>worth the purchase.  I ...</td>\n",
              "        <td style=\"padding-left: 1em; padding-right: 1em; text-align: center; vertical-align: top\">5.0</td>\n",
              "    </tr>\n",
              "    <tr>\n",
              "        <td style=\"padding-left: 1em; padding-right: 1em; text-align: center; vertical-align: top\">Stop Pacifier Sucking<br>without tears with ...</td>\n",
              "        <td style=\"padding-left: 1em; padding-right: 1em; text-align: center; vertical-align: top\">All of my kids have cried<br>non-stop when I tried to ...</td>\n",
              "        <td style=\"padding-left: 1em; padding-right: 1em; text-align: center; vertical-align: top\">5.0</td>\n",
              "    </tr>\n",
              "    <tr>\n",
              "        <td style=\"padding-left: 1em; padding-right: 1em; text-align: center; vertical-align: top\">Stop Pacifier Sucking<br>without tears with ...</td>\n",
              "        <td style=\"padding-left: 1em; padding-right: 1em; text-align: center; vertical-align: top\">When the Binky Fairy came<br>to our house, we didn&#x27;t ...</td>\n",
              "        <td style=\"padding-left: 1em; padding-right: 1em; text-align: center; vertical-align: top\">5.0</td>\n",
              "    </tr>\n",
              "    <tr>\n",
              "        <td style=\"padding-left: 1em; padding-right: 1em; text-align: center; vertical-align: top\">A Tale of Baby&#x27;s Days<br>with Peter Rabbit ...</td>\n",
              "        <td style=\"padding-left: 1em; padding-right: 1em; text-align: center; vertical-align: top\">Lovely book, it&#x27;s bound<br>tightly so you may no ...</td>\n",
              "        <td style=\"padding-left: 1em; padding-right: 1em; text-align: center; vertical-align: top\">4.0</td>\n",
              "    </tr>\n",
              "    <tr>\n",
              "        <td style=\"padding-left: 1em; padding-right: 1em; text-align: center; vertical-align: top\">Baby Tracker&amp;reg; - Daily<br>Childcare Journal, ...</td>\n",
              "        <td style=\"padding-left: 1em; padding-right: 1em; text-align: center; vertical-align: top\">Perfect for new parents.<br>We were able to keep ...</td>\n",
              "        <td style=\"padding-left: 1em; padding-right: 1em; text-align: center; vertical-align: top\">5.0</td>\n",
              "    </tr>\n",
              "    <tr>\n",
              "        <td style=\"padding-left: 1em; padding-right: 1em; text-align: center; vertical-align: top\">Baby Tracker&amp;reg; - Daily<br>Childcare Journal, ...</td>\n",
              "        <td style=\"padding-left: 1em; padding-right: 1em; text-align: center; vertical-align: top\">A friend of mine pinned<br>this product on Pinte ...</td>\n",
              "        <td style=\"padding-left: 1em; padding-right: 1em; text-align: center; vertical-align: top\">5.0</td>\n",
              "    </tr>\n",
              "    <tr>\n",
              "        <td style=\"padding-left: 1em; padding-right: 1em; text-align: center; vertical-align: top\">Baby Tracker&amp;reg; - Daily<br>Childcare Journal, ...</td>\n",
              "        <td style=\"padding-left: 1em; padding-right: 1em; text-align: center; vertical-align: top\">This has been an easy way<br>for my nanny to record ...</td>\n",
              "        <td style=\"padding-left: 1em; padding-right: 1em; text-align: center; vertical-align: top\">4.0</td>\n",
              "    </tr>\n",
              "</table>\n",
              "[183531 rows x 3 columns]<br/>Note: Only the head of the SFrame is printed.<br/>You can use print_rows(num_rows=m, num_columns=n) to print more rows and columns.\n",
              "</div>"
            ],
            "text/plain": [
              "Columns:\n",
              "\tname\tstr\n",
              "\treview\tstr\n",
              "\trating\tfloat\n",
              "\n",
              "Rows: 183531\n",
              "\n",
              "Data:\n",
              "+-------------------------------+-------------------------------+--------+\n",
              "|              name             |             review            | rating |\n",
              "+-------------------------------+-------------------------------+--------+\n",
              "|    Planetwise Flannel Wipes   | These flannel wipes are OK... |  3.0   |\n",
              "|     Planetwise Wipe Pouch     | it came early and was not ... |  5.0   |\n",
              "| Annas Dream Full Quilt wit... | Very soft and comfortable ... |  5.0   |\n",
              "| Stop Pacifier Sucking with... | This is a product well wor... |  5.0   |\n",
              "| Stop Pacifier Sucking with... | All of my kids have cried ... |  5.0   |\n",
              "| Stop Pacifier Sucking with... | When the Binky Fairy came ... |  5.0   |\n",
              "| A Tale of Baby's Days with... | Lovely book, it's bound ti... |  4.0   |\n",
              "| Baby Tracker&reg; - Daily ... | Perfect for new parents. W... |  5.0   |\n",
              "| Baby Tracker&reg; - Daily ... | A friend of mine pinned th... |  5.0   |\n",
              "| Baby Tracker&reg; - Daily ... | This has been an easy way ... |  4.0   |\n",
              "+-------------------------------+-------------------------------+--------+\n",
              "[183531 rows x 3 columns]\n",
              "Note: Only the head of the SFrame is printed.\n",
              "You can use print_rows(num_rows=m, num_columns=n) to print more rows and columns."
            ]
          },
          "metadata": {
            "tags": []
          },
          "execution_count": 5
        }
      ]
    },
    {
      "cell_type": "code",
      "metadata": {
        "id": "_0KQvmzqw6in",
        "colab_type": "code",
        "outputId": "9d7ba921-1367-4724-e286-08f017d9f7f4",
        "colab": {
          "base_uri": "https://localhost:8080/",
          "height": 439
        }
      },
      "source": [
        "products.groupby('name',operations={'count':turicreate.aggregate.COUNT()}).sort('count',ascending=False)"
      ],
      "execution_count": 0,
      "outputs": [
        {
          "output_type": "execute_result",
          "data": {
            "text/html": [
              "<div style=\"max-height:1000px;max-width:1500px;overflow:auto;\"><table frame=\"box\" rules=\"cols\">\n",
              "    <tr>\n",
              "        <th style=\"padding-left: 1em; padding-right: 1em; text-align: center\">name</th>\n",
              "        <th style=\"padding-left: 1em; padding-right: 1em; text-align: center\">count</th>\n",
              "    </tr>\n",
              "    <tr>\n",
              "        <td style=\"padding-left: 1em; padding-right: 1em; text-align: center; vertical-align: top\">Vulli Sophie the Giraffe<br>Teether ...</td>\n",
              "        <td style=\"padding-left: 1em; padding-right: 1em; text-align: center; vertical-align: top\">785</td>\n",
              "    </tr>\n",
              "    <tr>\n",
              "        <td style=\"padding-left: 1em; padding-right: 1em; text-align: center; vertical-align: top\">Simple Wishes Hands-Free<br>Breastpump Bra, Pink, ...</td>\n",
              "        <td style=\"padding-left: 1em; padding-right: 1em; text-align: center; vertical-align: top\">562</td>\n",
              "    </tr>\n",
              "    <tr>\n",
              "        <td style=\"padding-left: 1em; padding-right: 1em; text-align: center; vertical-align: top\">Infant Optics DXR-5 2.4<br>GHz Digital Video Baby ...</td>\n",
              "        <td style=\"padding-left: 1em; padding-right: 1em; text-align: center; vertical-align: top\">561</td>\n",
              "    </tr>\n",
              "    <tr>\n",
              "        <td style=\"padding-left: 1em; padding-right: 1em; text-align: center; vertical-align: top\">Baby Einstein Take Along<br>Tunes ...</td>\n",
              "        <td style=\"padding-left: 1em; padding-right: 1em; text-align: center; vertical-align: top\">547</td>\n",
              "    </tr>\n",
              "    <tr>\n",
              "        <td style=\"padding-left: 1em; padding-right: 1em; text-align: center; vertical-align: top\">Cloud b Twilight<br>Constellation Night ...</td>\n",
              "        <td style=\"padding-left: 1em; padding-right: 1em; text-align: center; vertical-align: top\">520</td>\n",
              "    </tr>\n",
              "    <tr>\n",
              "        <td style=\"padding-left: 1em; padding-right: 1em; text-align: center; vertical-align: top\">Fisher-Price Booster<br>Seat, Blue/Green/Gray ...</td>\n",
              "        <td style=\"padding-left: 1em; padding-right: 1em; text-align: center; vertical-align: top\">489</td>\n",
              "    </tr>\n",
              "    <tr>\n",
              "        <td style=\"padding-left: 1em; padding-right: 1em; text-align: center; vertical-align: top\">Fisher-Price Rainforest<br>Jumperoo ...</td>\n",
              "        <td style=\"padding-left: 1em; padding-right: 1em; text-align: center; vertical-align: top\">450</td>\n",
              "    </tr>\n",
              "    <tr>\n",
              "        <td style=\"padding-left: 1em; padding-right: 1em; text-align: center; vertical-align: top\">Graco Nautilus 3-in-1 Car<br>Seat, Matrix ...</td>\n",
              "        <td style=\"padding-left: 1em; padding-right: 1em; text-align: center; vertical-align: top\">419</td>\n",
              "    </tr>\n",
              "    <tr>\n",
              "        <td style=\"padding-left: 1em; padding-right: 1em; text-align: center; vertical-align: top\">Leachco Snoogle Total<br>Body Pillow ...</td>\n",
              "        <td style=\"padding-left: 1em; padding-right: 1em; text-align: center; vertical-align: top\">388</td>\n",
              "    </tr>\n",
              "    <tr>\n",
              "        <td style=\"padding-left: 1em; padding-right: 1em; text-align: center; vertical-align: top\">Regalo Easy Step Walk<br>Thru Gate, White ...</td>\n",
              "        <td style=\"padding-left: 1em; padding-right: 1em; text-align: center; vertical-align: top\">374</td>\n",
              "    </tr>\n",
              "</table>\n",
              "[32419 rows x 2 columns]<br/>Note: Only the head of the SFrame is printed.<br/>You can use print_rows(num_rows=m, num_columns=n) to print more rows and columns.\n",
              "</div>"
            ],
            "text/plain": [
              "Columns:\n",
              "\tname\tstr\n",
              "\tcount\tint\n",
              "\n",
              "Rows: 32419\n",
              "\n",
              "Data:\n",
              "+--------------------------------+-------+\n",
              "|              name              | count |\n",
              "+--------------------------------+-------+\n",
              "| Vulli Sophie the Giraffe T...  |  785  |\n",
              "| Simple Wishes Hands-Free B...  |  562  |\n",
              "| Infant Optics DXR-5 2.4 GH...  |  561  |\n",
              "| Baby Einstein Take Along Tunes |  547  |\n",
              "| Cloud b Twilight Constella...  |  520  |\n",
              "| Fisher-Price Booster Seat,...  |  489  |\n",
              "| Fisher-Price Rainforest Ju...  |  450  |\n",
              "| Graco Nautilus 3-in-1 Car ...  |  419  |\n",
              "| Leachco Snoogle Total Body...  |  388  |\n",
              "| Regalo Easy Step Walk Thru...  |  374  |\n",
              "+--------------------------------+-------+\n",
              "[32419 rows x 2 columns]\n",
              "Note: Only the head of the SFrame is printed.\n",
              "You can use print_rows(num_rows=m, num_columns=n) to print more rows and columns."
            ]
          },
          "metadata": {
            "tags": []
          },
          "execution_count": 6
        }
      ]
    },
    {
      "cell_type": "markdown",
      "metadata": {
        "id": "OFIJFwybx0Da",
        "colab_type": "text"
      },
      "source": [
        "##Q1. Out of the selected words, which of the following is used for maximum amount of times?\n",
        "###selected_words = ['awesome', 'great', 'fantastic', 'amazing', 'love', 'horrible', 'bad', 'terrible', 'awful', 'wow', 'hate']"
      ]
    },
    {
      "cell_type": "code",
      "metadata": {
        "id": "qSNkhdjaxV_i",
        "colab_type": "code",
        "colab": {}
      },
      "source": [
        "products['word_count'] = turicreate.text_analytics.count_words(products['review'])"
      ],
      "execution_count": 0,
      "outputs": []
    },
    {
      "cell_type": "code",
      "metadata": {
        "id": "CMZuiPGPyaI9",
        "colab_type": "code",
        "colab": {}
      },
      "source": [
        "selected_words=['awesome', 'great', 'fantastic', 'amazing', 'love', 'horrible', 'bad', 'terrible', 'awful', 'wow', 'hate']\n",
        "\n",
        "def current_selected_word_count(word_count):\n",
        "  if current_selected_word in word_count:\n",
        "    return word_count[current_selected_word]\n",
        "  return 0\n",
        "\n",
        "current_selected_word = ''\n",
        "for current_selected_word in selected_words:\n",
        "  products[current_selected_word] = products['word_count'].apply(current_selected_word_count)"
      ],
      "execution_count": 0,
      "outputs": []
    },
    {
      "cell_type": "code",
      "metadata": {
        "id": "L3qSxpD_07M8",
        "colab_type": "code",
        "outputId": "376050a4-eae8-48a8-ab88-c1c8548637d0",
        "colab": {
          "base_uri": "https://localhost:8080/",
          "height": 610
        }
      },
      "source": [
        "products.head()"
      ],
      "execution_count": 0,
      "outputs": [
        {
          "output_type": "execute_result",
          "data": {
            "text/html": [
              "<div style=\"max-height:1000px;max-width:1500px;overflow:auto;\"><table frame=\"box\" rules=\"cols\">\n",
              "    <tr>\n",
              "        <th style=\"padding-left: 1em; padding-right: 1em; text-align: center\">name</th>\n",
              "        <th style=\"padding-left: 1em; padding-right: 1em; text-align: center\">review</th>\n",
              "        <th style=\"padding-left: 1em; padding-right: 1em; text-align: center\">rating</th>\n",
              "        <th style=\"padding-left: 1em; padding-right: 1em; text-align: center\">word_count</th>\n",
              "        <th style=\"padding-left: 1em; padding-right: 1em; text-align: center\">awesome</th>\n",
              "        <th style=\"padding-left: 1em; padding-right: 1em; text-align: center\">great</th>\n",
              "    </tr>\n",
              "    <tr>\n",
              "        <td style=\"padding-left: 1em; padding-right: 1em; text-align: center; vertical-align: top\">Planetwise Flannel Wipes</td>\n",
              "        <td style=\"padding-left: 1em; padding-right: 1em; text-align: center; vertical-align: top\">These flannel wipes are<br>OK, but in my opinion ...</td>\n",
              "        <td style=\"padding-left: 1em; padding-right: 1em; text-align: center; vertical-align: top\">3.0</td>\n",
              "        <td style=\"padding-left: 1em; padding-right: 1em; text-align: center; vertical-align: top\">{&#x27;handles&#x27;: 1.0,<br>&#x27;stripping&#x27;: 1.0, ...</td>\n",
              "        <td style=\"padding-left: 1em; padding-right: 1em; text-align: center; vertical-align: top\">0.0</td>\n",
              "        <td style=\"padding-left: 1em; padding-right: 1em; text-align: center; vertical-align: top\">0.0</td>\n",
              "    </tr>\n",
              "    <tr>\n",
              "        <td style=\"padding-left: 1em; padding-right: 1em; text-align: center; vertical-align: top\">Planetwise Wipe Pouch</td>\n",
              "        <td style=\"padding-left: 1em; padding-right: 1em; text-align: center; vertical-align: top\">it came early and was not<br>disappointed. i love ...</td>\n",
              "        <td style=\"padding-left: 1em; padding-right: 1em; text-align: center; vertical-align: top\">5.0</td>\n",
              "        <td style=\"padding-left: 1em; padding-right: 1em; text-align: center; vertical-align: top\">{&#x27;recommend&#x27;: 1.0,<br>&#x27;highly&#x27;: 1.0, ...</td>\n",
              "        <td style=\"padding-left: 1em; padding-right: 1em; text-align: center; vertical-align: top\">0.0</td>\n",
              "        <td style=\"padding-left: 1em; padding-right: 1em; text-align: center; vertical-align: top\">0.0</td>\n",
              "    </tr>\n",
              "    <tr>\n",
              "        <td style=\"padding-left: 1em; padding-right: 1em; text-align: center; vertical-align: top\">Annas Dream Full Quilt<br>with 2 Shams ...</td>\n",
              "        <td style=\"padding-left: 1em; padding-right: 1em; text-align: center; vertical-align: top\">Very soft and comfortable<br>and warmer than it ...</td>\n",
              "        <td style=\"padding-left: 1em; padding-right: 1em; text-align: center; vertical-align: top\">5.0</td>\n",
              "        <td style=\"padding-left: 1em; padding-right: 1em; text-align: center; vertical-align: top\">{&#x27;quilt&#x27;: 1.0, &#x27;of&#x27;: 1.0,<br>&#x27;the&#x27;: 1.0, &#x27;than&#x27;: 1.0, ...</td>\n",
              "        <td style=\"padding-left: 1em; padding-right: 1em; text-align: center; vertical-align: top\">0.0</td>\n",
              "        <td style=\"padding-left: 1em; padding-right: 1em; text-align: center; vertical-align: top\">0.0</td>\n",
              "    </tr>\n",
              "    <tr>\n",
              "        <td style=\"padding-left: 1em; padding-right: 1em; text-align: center; vertical-align: top\">Stop Pacifier Sucking<br>without tears with ...</td>\n",
              "        <td style=\"padding-left: 1em; padding-right: 1em; text-align: center; vertical-align: top\">This is a product well<br>worth the purchase.  I ...</td>\n",
              "        <td style=\"padding-left: 1em; padding-right: 1em; text-align: center; vertical-align: top\">5.0</td>\n",
              "        <td style=\"padding-left: 1em; padding-right: 1em; text-align: center; vertical-align: top\">{&#x27;tool&#x27;: 1.0, &#x27;clever&#x27;:<br>1.0, &#x27;approach&#x27;: 2.0, ...</td>\n",
              "        <td style=\"padding-left: 1em; padding-right: 1em; text-align: center; vertical-align: top\">0.0</td>\n",
              "        <td style=\"padding-left: 1em; padding-right: 1em; text-align: center; vertical-align: top\">0.0</td>\n",
              "    </tr>\n",
              "    <tr>\n",
              "        <td style=\"padding-left: 1em; padding-right: 1em; text-align: center; vertical-align: top\">Stop Pacifier Sucking<br>without tears with ...</td>\n",
              "        <td style=\"padding-left: 1em; padding-right: 1em; text-align: center; vertical-align: top\">All of my kids have cried<br>non-stop when I tried to ...</td>\n",
              "        <td style=\"padding-left: 1em; padding-right: 1em; text-align: center; vertical-align: top\">5.0</td>\n",
              "        <td style=\"padding-left: 1em; padding-right: 1em; text-align: center; vertical-align: top\">{&#x27;rock&#x27;: 1.0, &#x27;many&#x27;:<br>1.0, &#x27;headaches&#x27;: 1.0, ...</td>\n",
              "        <td style=\"padding-left: 1em; padding-right: 1em; text-align: center; vertical-align: top\">0.0</td>\n",
              "        <td style=\"padding-left: 1em; padding-right: 1em; text-align: center; vertical-align: top\">1.0</td>\n",
              "    </tr>\n",
              "    <tr>\n",
              "        <td style=\"padding-left: 1em; padding-right: 1em; text-align: center; vertical-align: top\">Stop Pacifier Sucking<br>without tears with ...</td>\n",
              "        <td style=\"padding-left: 1em; padding-right: 1em; text-align: center; vertical-align: top\">When the Binky Fairy came<br>to our house, we didn&#x27;t ...</td>\n",
              "        <td style=\"padding-left: 1em; padding-right: 1em; text-align: center; vertical-align: top\">5.0</td>\n",
              "        <td style=\"padding-left: 1em; padding-right: 1em; text-align: center; vertical-align: top\">{&#x27;thumb&#x27;: 1.0, &#x27;or&#x27;: 1.0,<br>&#x27;break&#x27;: 1.0, &#x27;trying&#x27;: ...</td>\n",
              "        <td style=\"padding-left: 1em; padding-right: 1em; text-align: center; vertical-align: top\">0.0</td>\n",
              "        <td style=\"padding-left: 1em; padding-right: 1em; text-align: center; vertical-align: top\">1.0</td>\n",
              "    </tr>\n",
              "    <tr>\n",
              "        <td style=\"padding-left: 1em; padding-right: 1em; text-align: center; vertical-align: top\">A Tale of Baby&#x27;s Days<br>with Peter Rabbit ...</td>\n",
              "        <td style=\"padding-left: 1em; padding-right: 1em; text-align: center; vertical-align: top\">Lovely book, it&#x27;s bound<br>tightly so you may no ...</td>\n",
              "        <td style=\"padding-left: 1em; padding-right: 1em; text-align: center; vertical-align: top\">4.0</td>\n",
              "        <td style=\"padding-left: 1em; padding-right: 1em; text-align: center; vertical-align: top\">{&#x27;for&#x27;: 1.0, &#x27;barnes&#x27;:<br>1.0, &#x27;at&#x27;: 1.0, &#x27;is&#x27;: ...</td>\n",
              "        <td style=\"padding-left: 1em; padding-right: 1em; text-align: center; vertical-align: top\">0.0</td>\n",
              "        <td style=\"padding-left: 1em; padding-right: 1em; text-align: center; vertical-align: top\">0.0</td>\n",
              "    </tr>\n",
              "    <tr>\n",
              "        <td style=\"padding-left: 1em; padding-right: 1em; text-align: center; vertical-align: top\">Baby Tracker&amp;reg; - Daily<br>Childcare Journal, ...</td>\n",
              "        <td style=\"padding-left: 1em; padding-right: 1em; text-align: center; vertical-align: top\">Perfect for new parents.<br>We were able to keep ...</td>\n",
              "        <td style=\"padding-left: 1em; padding-right: 1em; text-align: center; vertical-align: top\">5.0</td>\n",
              "        <td style=\"padding-left: 1em; padding-right: 1em; text-align: center; vertical-align: top\">{&#x27;right&#x27;: 1.0, &#x27;because&#x27;:<br>1.0, &#x27;questions&#x27;: 1.0, ...</td>\n",
              "        <td style=\"padding-left: 1em; padding-right: 1em; text-align: center; vertical-align: top\">0.0</td>\n",
              "        <td style=\"padding-left: 1em; padding-right: 1em; text-align: center; vertical-align: top\">0.0</td>\n",
              "    </tr>\n",
              "    <tr>\n",
              "        <td style=\"padding-left: 1em; padding-right: 1em; text-align: center; vertical-align: top\">Baby Tracker&amp;reg; - Daily<br>Childcare Journal, ...</td>\n",
              "        <td style=\"padding-left: 1em; padding-right: 1em; text-align: center; vertical-align: top\">A friend of mine pinned<br>this product on Pinte ...</td>\n",
              "        <td style=\"padding-left: 1em; padding-right: 1em; text-align: center; vertical-align: top\">5.0</td>\n",
              "        <td style=\"padding-left: 1em; padding-right: 1em; text-align: center; vertical-align: top\">{&#x27;like&#x27;: 1.0, &#x27;and&#x27;: 1.0,<br>&#x27;changes&#x27;: 1.0, &#x27;the&#x27;: ...</td>\n",
              "        <td style=\"padding-left: 1em; padding-right: 1em; text-align: center; vertical-align: top\">0.0</td>\n",
              "        <td style=\"padding-left: 1em; padding-right: 1em; text-align: center; vertical-align: top\">0.0</td>\n",
              "    </tr>\n",
              "    <tr>\n",
              "        <td style=\"padding-left: 1em; padding-right: 1em; text-align: center; vertical-align: top\">Baby Tracker&amp;reg; - Daily<br>Childcare Journal, ...</td>\n",
              "        <td style=\"padding-left: 1em; padding-right: 1em; text-align: center; vertical-align: top\">This has been an easy way<br>for my nanny to record ...</td>\n",
              "        <td style=\"padding-left: 1em; padding-right: 1em; text-align: center; vertical-align: top\">4.0</td>\n",
              "        <td style=\"padding-left: 1em; padding-right: 1em; text-align: center; vertical-align: top\">{&#x27;in&#x27;: 1.0, &#x27;pages&#x27;: 1.0,<br>&#x27;out&#x27;: 1.0, &#x27;run&#x27;: 1.0, ...</td>\n",
              "        <td style=\"padding-left: 1em; padding-right: 1em; text-align: center; vertical-align: top\">0.0</td>\n",
              "        <td style=\"padding-left: 1em; padding-right: 1em; text-align: center; vertical-align: top\">0.0</td>\n",
              "    </tr>\n",
              "</table>\n",
              "<table frame=\"box\" rules=\"cols\">\n",
              "    <tr>\n",
              "        <th style=\"padding-left: 1em; padding-right: 1em; text-align: center\">fantastic</th>\n",
              "        <th style=\"padding-left: 1em; padding-right: 1em; text-align: center\">amazing</th>\n",
              "        <th style=\"padding-left: 1em; padding-right: 1em; text-align: center\">love</th>\n",
              "        <th style=\"padding-left: 1em; padding-right: 1em; text-align: center\">horrible</th>\n",
              "        <th style=\"padding-left: 1em; padding-right: 1em; text-align: center\">bad</th>\n",
              "        <th style=\"padding-left: 1em; padding-right: 1em; text-align: center\">terrible</th>\n",
              "        <th style=\"padding-left: 1em; padding-right: 1em; text-align: center\">awful</th>\n",
              "        <th style=\"padding-left: 1em; padding-right: 1em; text-align: center\">wow</th>\n",
              "        <th style=\"padding-left: 1em; padding-right: 1em; text-align: center\">hate</th>\n",
              "    </tr>\n",
              "    <tr>\n",
              "        <td style=\"padding-left: 1em; padding-right: 1em; text-align: center; vertical-align: top\">0.0</td>\n",
              "        <td style=\"padding-left: 1em; padding-right: 1em; text-align: center; vertical-align: top\">0.0</td>\n",
              "        <td style=\"padding-left: 1em; padding-right: 1em; text-align: center; vertical-align: top\">0.0</td>\n",
              "        <td style=\"padding-left: 1em; padding-right: 1em; text-align: center; vertical-align: top\">0</td>\n",
              "        <td style=\"padding-left: 1em; padding-right: 1em; text-align: center; vertical-align: top\">0.0</td>\n",
              "        <td style=\"padding-left: 1em; padding-right: 1em; text-align: center; vertical-align: top\">0</td>\n",
              "        <td style=\"padding-left: 1em; padding-right: 1em; text-align: center; vertical-align: top\">0</td>\n",
              "        <td style=\"padding-left: 1em; padding-right: 1em; text-align: center; vertical-align: top\">0</td>\n",
              "        <td style=\"padding-left: 1em; padding-right: 1em; text-align: center; vertical-align: top\">0</td>\n",
              "    </tr>\n",
              "    <tr>\n",
              "        <td style=\"padding-left: 1em; padding-right: 1em; text-align: center; vertical-align: top\">0.0</td>\n",
              "        <td style=\"padding-left: 1em; padding-right: 1em; text-align: center; vertical-align: top\">0.0</td>\n",
              "        <td style=\"padding-left: 1em; padding-right: 1em; text-align: center; vertical-align: top\">1.0</td>\n",
              "        <td style=\"padding-left: 1em; padding-right: 1em; text-align: center; vertical-align: top\">0</td>\n",
              "        <td style=\"padding-left: 1em; padding-right: 1em; text-align: center; vertical-align: top\">0.0</td>\n",
              "        <td style=\"padding-left: 1em; padding-right: 1em; text-align: center; vertical-align: top\">0</td>\n",
              "        <td style=\"padding-left: 1em; padding-right: 1em; text-align: center; vertical-align: top\">0</td>\n",
              "        <td style=\"padding-left: 1em; padding-right: 1em; text-align: center; vertical-align: top\">0</td>\n",
              "        <td style=\"padding-left: 1em; padding-right: 1em; text-align: center; vertical-align: top\">0</td>\n",
              "    </tr>\n",
              "    <tr>\n",
              "        <td style=\"padding-left: 1em; padding-right: 1em; text-align: center; vertical-align: top\">0.0</td>\n",
              "        <td style=\"padding-left: 1em; padding-right: 1em; text-align: center; vertical-align: top\">0.0</td>\n",
              "        <td style=\"padding-left: 1em; padding-right: 1em; text-align: center; vertical-align: top\">0.0</td>\n",
              "        <td style=\"padding-left: 1em; padding-right: 1em; text-align: center; vertical-align: top\">0</td>\n",
              "        <td style=\"padding-left: 1em; padding-right: 1em; text-align: center; vertical-align: top\">0.0</td>\n",
              "        <td style=\"padding-left: 1em; padding-right: 1em; text-align: center; vertical-align: top\">0</td>\n",
              "        <td style=\"padding-left: 1em; padding-right: 1em; text-align: center; vertical-align: top\">0</td>\n",
              "        <td style=\"padding-left: 1em; padding-right: 1em; text-align: center; vertical-align: top\">0</td>\n",
              "        <td style=\"padding-left: 1em; padding-right: 1em; text-align: center; vertical-align: top\">0</td>\n",
              "    </tr>\n",
              "    <tr>\n",
              "        <td style=\"padding-left: 1em; padding-right: 1em; text-align: center; vertical-align: top\">0.0</td>\n",
              "        <td style=\"padding-left: 1em; padding-right: 1em; text-align: center; vertical-align: top\">0.0</td>\n",
              "        <td style=\"padding-left: 1em; padding-right: 1em; text-align: center; vertical-align: top\">2.0</td>\n",
              "        <td style=\"padding-left: 1em; padding-right: 1em; text-align: center; vertical-align: top\">0</td>\n",
              "        <td style=\"padding-left: 1em; padding-right: 1em; text-align: center; vertical-align: top\">0.0</td>\n",
              "        <td style=\"padding-left: 1em; padding-right: 1em; text-align: center; vertical-align: top\">0</td>\n",
              "        <td style=\"padding-left: 1em; padding-right: 1em; text-align: center; vertical-align: top\">0</td>\n",
              "        <td style=\"padding-left: 1em; padding-right: 1em; text-align: center; vertical-align: top\">0</td>\n",
              "        <td style=\"padding-left: 1em; padding-right: 1em; text-align: center; vertical-align: top\">0</td>\n",
              "    </tr>\n",
              "    <tr>\n",
              "        <td style=\"padding-left: 1em; padding-right: 1em; text-align: center; vertical-align: top\">0.0</td>\n",
              "        <td style=\"padding-left: 1em; padding-right: 1em; text-align: center; vertical-align: top\">0.0</td>\n",
              "        <td style=\"padding-left: 1em; padding-right: 1em; text-align: center; vertical-align: top\">1.0</td>\n",
              "        <td style=\"padding-left: 1em; padding-right: 1em; text-align: center; vertical-align: top\">0</td>\n",
              "        <td style=\"padding-left: 1em; padding-right: 1em; text-align: center; vertical-align: top\">0.0</td>\n",
              "        <td style=\"padding-left: 1em; padding-right: 1em; text-align: center; vertical-align: top\">0</td>\n",
              "        <td style=\"padding-left: 1em; padding-right: 1em; text-align: center; vertical-align: top\">0</td>\n",
              "        <td style=\"padding-left: 1em; padding-right: 1em; text-align: center; vertical-align: top\">0</td>\n",
              "        <td style=\"padding-left: 1em; padding-right: 1em; text-align: center; vertical-align: top\">0</td>\n",
              "    </tr>\n",
              "    <tr>\n",
              "        <td style=\"padding-left: 1em; padding-right: 1em; text-align: center; vertical-align: top\">0.0</td>\n",
              "        <td style=\"padding-left: 1em; padding-right: 1em; text-align: center; vertical-align: top\">0.0</td>\n",
              "        <td style=\"padding-left: 1em; padding-right: 1em; text-align: center; vertical-align: top\">0.0</td>\n",
              "        <td style=\"padding-left: 1em; padding-right: 1em; text-align: center; vertical-align: top\">0</td>\n",
              "        <td style=\"padding-left: 1em; padding-right: 1em; text-align: center; vertical-align: top\">0.0</td>\n",
              "        <td style=\"padding-left: 1em; padding-right: 1em; text-align: center; vertical-align: top\">0</td>\n",
              "        <td style=\"padding-left: 1em; padding-right: 1em; text-align: center; vertical-align: top\">0</td>\n",
              "        <td style=\"padding-left: 1em; padding-right: 1em; text-align: center; vertical-align: top\">0</td>\n",
              "        <td style=\"padding-left: 1em; padding-right: 1em; text-align: center; vertical-align: top\">0</td>\n",
              "    </tr>\n",
              "    <tr>\n",
              "        <td style=\"padding-left: 1em; padding-right: 1em; text-align: center; vertical-align: top\">0.0</td>\n",
              "        <td style=\"padding-left: 1em; padding-right: 1em; text-align: center; vertical-align: top\">0.0</td>\n",
              "        <td style=\"padding-left: 1em; padding-right: 1em; text-align: center; vertical-align: top\">0.0</td>\n",
              "        <td style=\"padding-left: 1em; padding-right: 1em; text-align: center; vertical-align: top\">0</td>\n",
              "        <td style=\"padding-left: 1em; padding-right: 1em; text-align: center; vertical-align: top\">0.0</td>\n",
              "        <td style=\"padding-left: 1em; padding-right: 1em; text-align: center; vertical-align: top\">0</td>\n",
              "        <td style=\"padding-left: 1em; padding-right: 1em; text-align: center; vertical-align: top\">0</td>\n",
              "        <td style=\"padding-left: 1em; padding-right: 1em; text-align: center; vertical-align: top\">0</td>\n",
              "        <td style=\"padding-left: 1em; padding-right: 1em; text-align: center; vertical-align: top\">0</td>\n",
              "    </tr>\n",
              "    <tr>\n",
              "        <td style=\"padding-left: 1em; padding-right: 1em; text-align: center; vertical-align: top\">0.0</td>\n",
              "        <td style=\"padding-left: 1em; padding-right: 1em; text-align: center; vertical-align: top\">0.0</td>\n",
              "        <td style=\"padding-left: 1em; padding-right: 1em; text-align: center; vertical-align: top\">0.0</td>\n",
              "        <td style=\"padding-left: 1em; padding-right: 1em; text-align: center; vertical-align: top\">0</td>\n",
              "        <td style=\"padding-left: 1em; padding-right: 1em; text-align: center; vertical-align: top\">0.0</td>\n",
              "        <td style=\"padding-left: 1em; padding-right: 1em; text-align: center; vertical-align: top\">0</td>\n",
              "        <td style=\"padding-left: 1em; padding-right: 1em; text-align: center; vertical-align: top\">0</td>\n",
              "        <td style=\"padding-left: 1em; padding-right: 1em; text-align: center; vertical-align: top\">0</td>\n",
              "        <td style=\"padding-left: 1em; padding-right: 1em; text-align: center; vertical-align: top\">0</td>\n",
              "    </tr>\n",
              "    <tr>\n",
              "        <td style=\"padding-left: 1em; padding-right: 1em; text-align: center; vertical-align: top\">1.0</td>\n",
              "        <td style=\"padding-left: 1em; padding-right: 1em; text-align: center; vertical-align: top\">0.0</td>\n",
              "        <td style=\"padding-left: 1em; padding-right: 1em; text-align: center; vertical-align: top\">0.0</td>\n",
              "        <td style=\"padding-left: 1em; padding-right: 1em; text-align: center; vertical-align: top\">0</td>\n",
              "        <td style=\"padding-left: 1em; padding-right: 1em; text-align: center; vertical-align: top\">0.0</td>\n",
              "        <td style=\"padding-left: 1em; padding-right: 1em; text-align: center; vertical-align: top\">0</td>\n",
              "        <td style=\"padding-left: 1em; padding-right: 1em; text-align: center; vertical-align: top\">0</td>\n",
              "        <td style=\"padding-left: 1em; padding-right: 1em; text-align: center; vertical-align: top\">0</td>\n",
              "        <td style=\"padding-left: 1em; padding-right: 1em; text-align: center; vertical-align: top\">0</td>\n",
              "    </tr>\n",
              "    <tr>\n",
              "        <td style=\"padding-left: 1em; padding-right: 1em; text-align: center; vertical-align: top\">0.0</td>\n",
              "        <td style=\"padding-left: 1em; padding-right: 1em; text-align: center; vertical-align: top\">0.0</td>\n",
              "        <td style=\"padding-left: 1em; padding-right: 1em; text-align: center; vertical-align: top\">0.0</td>\n",
              "        <td style=\"padding-left: 1em; padding-right: 1em; text-align: center; vertical-align: top\">0</td>\n",
              "        <td style=\"padding-left: 1em; padding-right: 1em; text-align: center; vertical-align: top\">0.0</td>\n",
              "        <td style=\"padding-left: 1em; padding-right: 1em; text-align: center; vertical-align: top\">0</td>\n",
              "        <td style=\"padding-left: 1em; padding-right: 1em; text-align: center; vertical-align: top\">0</td>\n",
              "        <td style=\"padding-left: 1em; padding-right: 1em; text-align: center; vertical-align: top\">0</td>\n",
              "        <td style=\"padding-left: 1em; padding-right: 1em; text-align: center; vertical-align: top\">0</td>\n",
              "    </tr>\n",
              "</table>\n",
              "[10 rows x 15 columns]<br/>\n",
              "</div>"
            ],
            "text/plain": [
              "Columns:\n",
              "\tname\tstr\n",
              "\treview\tstr\n",
              "\trating\tfloat\n",
              "\tword_count\tdict\n",
              "\tawesome\tfloat\n",
              "\tgreat\tfloat\n",
              "\tfantastic\tfloat\n",
              "\tamazing\tfloat\n",
              "\tlove\tfloat\n",
              "\thorrible\tint\n",
              "\tbad\tfloat\n",
              "\tterrible\tint\n",
              "\tawful\tint\n",
              "\twow\tint\n",
              "\thate\tint\n",
              "\n",
              "Rows: 10\n",
              "\n",
              "Data:\n",
              "+-------------------------------+-------------------------------+--------+\n",
              "|              name             |             review            | rating |\n",
              "+-------------------------------+-------------------------------+--------+\n",
              "|    Planetwise Flannel Wipes   | These flannel wipes are OK... |  3.0   |\n",
              "|     Planetwise Wipe Pouch     | it came early and was not ... |  5.0   |\n",
              "| Annas Dream Full Quilt wit... | Very soft and comfortable ... |  5.0   |\n",
              "| Stop Pacifier Sucking with... | This is a product well wor... |  5.0   |\n",
              "| Stop Pacifier Sucking with... | All of my kids have cried ... |  5.0   |\n",
              "| Stop Pacifier Sucking with... | When the Binky Fairy came ... |  5.0   |\n",
              "| A Tale of Baby's Days with... | Lovely book, it's bound ti... |  4.0   |\n",
              "| Baby Tracker&reg; - Daily ... | Perfect for new parents. W... |  5.0   |\n",
              "| Baby Tracker&reg; - Daily ... | A friend of mine pinned th... |  5.0   |\n",
              "| Baby Tracker&reg; - Daily ... | This has been an easy way ... |  4.0   |\n",
              "+-------------------------------+-------------------------------+--------+\n",
              "+-------------------------------+---------+-------+-----------+---------+------+\n",
              "|           word_count          | awesome | great | fantastic | amazing | love |\n",
              "+-------------------------------+---------+-------+-----------+---------+------+\n",
              "| {'handles': 1.0, 'strippin... |   0.0   |  0.0  |    0.0    |   0.0   | 0.0  |\n",
              "| {'recommend': 1.0, 'highly... |   0.0   |  0.0  |    0.0    |   0.0   | 1.0  |\n",
              "| {'quilt': 1.0, 'of': 1.0, ... |   0.0   |  0.0  |    0.0    |   0.0   | 0.0  |\n",
              "| {'tool': 1.0, 'clever': 1.... |   0.0   |  0.0  |    0.0    |   0.0   | 2.0  |\n",
              "| {'rock': 1.0, 'many': 1.0,... |   0.0   |  1.0  |    0.0    |   0.0   | 1.0  |\n",
              "| {'thumb': 1.0, 'or': 1.0, ... |   0.0   |  1.0  |    0.0    |   0.0   | 0.0  |\n",
              "| {'for': 1.0, 'barnes': 1.0... |   0.0   |  0.0  |    0.0    |   0.0   | 0.0  |\n",
              "| {'right': 1.0, 'because': ... |   0.0   |  0.0  |    0.0    |   0.0   | 0.0  |\n",
              "| {'like': 1.0, 'and': 1.0, ... |   0.0   |  0.0  |    1.0    |   0.0   | 0.0  |\n",
              "| {'in': 1.0, 'pages': 1.0, ... |   0.0   |  0.0  |    0.0    |   0.0   | 0.0  |\n",
              "+-------------------------------+---------+-------+-----------+---------+------+\n",
              "+----------+-----+----------+-------+-----+------+\n",
              "| horrible | bad | terrible | awful | wow | hate |\n",
              "+----------+-----+----------+-------+-----+------+\n",
              "|    0     | 0.0 |    0     |   0   |  0  |  0   |\n",
              "|    0     | 0.0 |    0     |   0   |  0  |  0   |\n",
              "|    0     | 0.0 |    0     |   0   |  0  |  0   |\n",
              "|    0     | 0.0 |    0     |   0   |  0  |  0   |\n",
              "|    0     | 0.0 |    0     |   0   |  0  |  0   |\n",
              "|    0     | 0.0 |    0     |   0   |  0  |  0   |\n",
              "|    0     | 0.0 |    0     |   0   |  0  |  0   |\n",
              "|    0     | 0.0 |    0     |   0   |  0  |  0   |\n",
              "|    0     | 0.0 |    0     |   0   |  0  |  0   |\n",
              "|    0     | 0.0 |    0     |   0   |  0  |  0   |\n",
              "+----------+-----+----------+-------+-----+------+\n",
              "[10 rows x 15 columns]"
            ]
          },
          "metadata": {
            "tags": []
          },
          "execution_count": 14
        }
      ]
    },
    {
      "cell_type": "code",
      "metadata": {
        "id": "mA6CUC2h0-ro",
        "colab_type": "code",
        "colab": {}
      },
      "source": [
        "selected_words_sums = {}\n",
        "for selected_word in selected_words:\n",
        "  selected_words_sums[selected_word] = products[selected_word].sum()"
      ],
      "execution_count": 0,
      "outputs": []
    },
    {
      "cell_type": "code",
      "metadata": {
        "id": "TGSTx6R41RPF",
        "colab_type": "code",
        "outputId": "1016c6de-8e5c-44e0-dbe4-a2ad9f2150ff",
        "colab": {
          "base_uri": "https://localhost:8080/",
          "height": 202
        }
      },
      "source": [
        "selected_words_sums"
      ],
      "execution_count": 0,
      "outputs": [
        {
          "output_type": "execute_result",
          "data": {
            "text/plain": [
              "{'amazing': 2726.0,\n",
              " 'awesome': 4075.0,\n",
              " 'awful': 753,\n",
              " 'bad': 4950.0,\n",
              " 'fantastic': 1765.0,\n",
              " 'great': 59536.0,\n",
              " 'hate': 1285,\n",
              " 'horrible': 1245,\n",
              " 'love': 43867.0,\n",
              " 'terrible': 1282,\n",
              " 'wow': 461}"
            ]
          },
          "metadata": {
            "tags": []
          },
          "execution_count": 16
        }
      ]
    },
    {
      "cell_type": "markdown",
      "metadata": {
        "id": "aCvZ85j72CWT",
        "colab_type": "text"
      },
      "source": [
        "#Q2. Create a sentiment analysis for the given selected words."
      ]
    },
    {
      "cell_type": "code",
      "metadata": {
        "id": "dQgI77sH1yLx",
        "colab_type": "code",
        "outputId": "64a54c82-93d6-422b-f6f5-5639d53a0ac7",
        "colab": {
          "base_uri": "https://localhost:8080/",
          "height": 672
        }
      },
      "source": [
        "#Ignore all 3* reviews as they are undecisive\n",
        "products = products[products['rating']!=3]\n",
        "products['sentiment'] = products['rating'] >=4\n",
        "train_data,test_data = products.random_split(0.8, seed=0)\n",
        "sentiment_model = turicreate.logistic_classifier.create(train_data,target='sentiment',features=['word_count'],validation_set=test_data)\n",
        "selected_words_model = turicreate.logistic_classifier.create(train_data, target='sentiment',features=selected_words,validation_set=test_data)"
      ],
      "execution_count": 0,
      "outputs": [
        {
          "output_type": "display_data",
          "data": {
            "text/html": [
              "<pre>Logistic regression:</pre>"
            ],
            "text/plain": [
              "Logistic regression:"
            ]
          },
          "metadata": {
            "tags": []
          }
        },
        {
          "output_type": "display_data",
          "data": {
            "text/html": [
              "<pre>--------------------------------------------------------</pre>"
            ],
            "text/plain": [
              "--------------------------------------------------------"
            ]
          },
          "metadata": {
            "tags": []
          }
        },
        {
          "output_type": "display_data",
          "data": {
            "text/html": [
              "<pre>Number of examples          : 133448</pre>"
            ],
            "text/plain": [
              "Number of examples          : 133448"
            ]
          },
          "metadata": {
            "tags": []
          }
        },
        {
          "output_type": "display_data",
          "data": {
            "text/html": [
              "<pre>Number of classes           : 2</pre>"
            ],
            "text/plain": [
              "Number of classes           : 2"
            ]
          },
          "metadata": {
            "tags": []
          }
        },
        {
          "output_type": "display_data",
          "data": {
            "text/html": [
              "<pre>Number of feature columns   : 1</pre>"
            ],
            "text/plain": [
              "Number of feature columns   : 1"
            ]
          },
          "metadata": {
            "tags": []
          }
        },
        {
          "output_type": "display_data",
          "data": {
            "text/html": [
              "<pre>Number of unpacked features : 57356</pre>"
            ],
            "text/plain": [
              "Number of unpacked features : 57356"
            ]
          },
          "metadata": {
            "tags": []
          }
        },
        {
          "output_type": "display_data",
          "data": {
            "text/html": [
              "<pre>Number of coefficients      : 57357</pre>"
            ],
            "text/plain": [
              "Number of coefficients      : 57357"
            ]
          },
          "metadata": {
            "tags": []
          }
        },
        {
          "output_type": "display_data",
          "data": {
            "text/html": [
              "<pre>Starting L-BFGS</pre>"
            ],
            "text/plain": [
              "Starting L-BFGS"
            ]
          },
          "metadata": {
            "tags": []
          }
        },
        {
          "output_type": "display_data",
          "data": {
            "text/html": [
              "<pre>--------------------------------------------------------</pre>"
            ],
            "text/plain": [
              "--------------------------------------------------------"
            ]
          },
          "metadata": {
            "tags": []
          }
        },
        {
          "output_type": "display_data",
          "data": {
            "text/html": [
              "<pre>+-----------+----------+-----------+--------------+-------------------+---------------------+</pre>"
            ],
            "text/plain": [
              "+-----------+----------+-----------+--------------+-------------------+---------------------+"
            ]
          },
          "metadata": {
            "tags": []
          }
        },
        {
          "output_type": "display_data",
          "data": {
            "text/html": [
              "<pre>| Iteration | Passes   | Step size | Elapsed Time | Training Accuracy | Validation Accuracy |</pre>"
            ],
            "text/plain": [
              "| Iteration | Passes   | Step size | Elapsed Time | Training Accuracy | Validation Accuracy |"
            ]
          },
          "metadata": {
            "tags": []
          }
        },
        {
          "output_type": "display_data",
          "data": {
            "text/html": [
              "<pre>+-----------+----------+-----------+--------------+-------------------+---------------------+</pre>"
            ],
            "text/plain": [
              "+-----------+----------+-----------+--------------+-------------------+---------------------+"
            ]
          },
          "metadata": {
            "tags": []
          }
        },
        {
          "output_type": "display_data",
          "data": {
            "text/html": [
              "<pre>| 0         | 4        | 0.250000  | 1.361023     | 0.841421          | 0.840019            |</pre>"
            ],
            "text/plain": [
              "| 0         | 4        | 0.250000  | 1.361023     | 0.841421          | 0.840019            |"
            ]
          },
          "metadata": {
            "tags": []
          }
        },
        {
          "output_type": "display_data",
          "data": {
            "text/html": [
              "<pre>| 1         | 9        | 3.250000  | 3.295370     | 0.931359          | 0.911362            |</pre>"
            ],
            "text/plain": [
              "| 1         | 9        | 3.250000  | 3.295370     | 0.931359          | 0.911362            |"
            ]
          },
          "metadata": {
            "tags": []
          }
        },
        {
          "output_type": "display_data",
          "data": {
            "text/html": [
              "<pre>| 2         | 11       | 2.669978  | 4.240495     | 0.938650          | 0.916466            |</pre>"
            ],
            "text/plain": [
              "| 2         | 11       | 2.669978  | 4.240495     | 0.938650          | 0.916466            |"
            ]
          },
          "metadata": {
            "tags": []
          }
        },
        {
          "output_type": "display_data",
          "data": {
            "text/html": [
              "<pre>| 3         | 12       | 2.669978  | 4.848707     | 0.927417          | 0.901814            |</pre>"
            ],
            "text/plain": [
              "| 3         | 12       | 2.669978  | 4.848707     | 0.927417          | 0.901814            |"
            ]
          },
          "metadata": {
            "tags": []
          }
        },
        {
          "output_type": "display_data",
          "data": {
            "text/html": [
              "<pre>| 4         | 14       | 1.326072  | 5.804385     | 0.945200          | 0.918088            |</pre>"
            ],
            "text/plain": [
              "| 4         | 14       | 1.326072  | 5.804385     | 0.945200          | 0.918088            |"
            ]
          },
          "metadata": {
            "tags": []
          }
        },
        {
          "output_type": "display_data",
          "data": {
            "text/html": [
              "<pre>| 9         | 20       | 1.326072  | 9.223221     | 0.977654          | 0.917698            |</pre>"
            ],
            "text/plain": [
              "| 9         | 20       | 1.326072  | 9.223221     | 0.977654          | 0.917698            |"
            ]
          },
          "metadata": {
            "tags": []
          }
        },
        {
          "output_type": "display_data",
          "data": {
            "text/html": [
              "<pre>+-----------+----------+-----------+--------------+-------------------+---------------------+</pre>"
            ],
            "text/plain": [
              "+-----------+----------+-----------+--------------+-------------------+---------------------+"
            ]
          },
          "metadata": {
            "tags": []
          }
        },
        {
          "output_type": "display_data",
          "data": {
            "text/html": [
              "<pre>Logistic regression:</pre>"
            ],
            "text/plain": [
              "Logistic regression:"
            ]
          },
          "metadata": {
            "tags": []
          }
        },
        {
          "output_type": "display_data",
          "data": {
            "text/html": [
              "<pre>--------------------------------------------------------</pre>"
            ],
            "text/plain": [
              "--------------------------------------------------------"
            ]
          },
          "metadata": {
            "tags": []
          }
        },
        {
          "output_type": "display_data",
          "data": {
            "text/html": [
              "<pre>Number of examples          : 133448</pre>"
            ],
            "text/plain": [
              "Number of examples          : 133448"
            ]
          },
          "metadata": {
            "tags": []
          }
        },
        {
          "output_type": "display_data",
          "data": {
            "text/html": [
              "<pre>Number of classes           : 2</pre>"
            ],
            "text/plain": [
              "Number of classes           : 2"
            ]
          },
          "metadata": {
            "tags": []
          }
        },
        {
          "output_type": "display_data",
          "data": {
            "text/html": [
              "<pre>Number of feature columns   : 11</pre>"
            ],
            "text/plain": [
              "Number of feature columns   : 11"
            ]
          },
          "metadata": {
            "tags": []
          }
        },
        {
          "output_type": "display_data",
          "data": {
            "text/html": [
              "<pre>Number of unpacked features : 11</pre>"
            ],
            "text/plain": [
              "Number of unpacked features : 11"
            ]
          },
          "metadata": {
            "tags": []
          }
        },
        {
          "output_type": "display_data",
          "data": {
            "text/html": [
              "<pre>Number of coefficients      : 12</pre>"
            ],
            "text/plain": [
              "Number of coefficients      : 12"
            ]
          },
          "metadata": {
            "tags": []
          }
        },
        {
          "output_type": "display_data",
          "data": {
            "text/html": [
              "<pre>Starting Newton Method</pre>"
            ],
            "text/plain": [
              "Starting Newton Method"
            ]
          },
          "metadata": {
            "tags": []
          }
        },
        {
          "output_type": "display_data",
          "data": {
            "text/html": [
              "<pre>--------------------------------------------------------</pre>"
            ],
            "text/plain": [
              "--------------------------------------------------------"
            ]
          },
          "metadata": {
            "tags": []
          }
        },
        {
          "output_type": "display_data",
          "data": {
            "text/html": [
              "<pre>+-----------+----------+--------------+-------------------+---------------------+</pre>"
            ],
            "text/plain": [
              "+-----------+----------+--------------+-------------------+---------------------+"
            ]
          },
          "metadata": {
            "tags": []
          }
        },
        {
          "output_type": "display_data",
          "data": {
            "text/html": [
              "<pre>| Iteration | Passes   | Elapsed Time | Training Accuracy | Validation Accuracy |</pre>"
            ],
            "text/plain": [
              "| Iteration | Passes   | Elapsed Time | Training Accuracy | Validation Accuracy |"
            ]
          },
          "metadata": {
            "tags": []
          }
        },
        {
          "output_type": "display_data",
          "data": {
            "text/html": [
              "<pre>+-----------+----------+--------------+-------------------+---------------------+</pre>"
            ],
            "text/plain": [
              "+-----------+----------+--------------+-------------------+---------------------+"
            ]
          },
          "metadata": {
            "tags": []
          }
        },
        {
          "output_type": "display_data",
          "data": {
            "text/html": [
              "<pre>| 1         | 2        | 0.244780     | 0.847401          | 0.845874            |</pre>"
            ],
            "text/plain": [
              "| 1         | 2        | 0.244780     | 0.847401          | 0.845874            |"
            ]
          },
          "metadata": {
            "tags": []
          }
        },
        {
          "output_type": "display_data",
          "data": {
            "text/html": [
              "<pre>| 2         | 3        | 0.412743     | 0.847514          | 0.846085            |</pre>"
            ],
            "text/plain": [
              "| 2         | 3        | 0.412743     | 0.847514          | 0.846085            |"
            ]
          },
          "metadata": {
            "tags": []
          }
        },
        {
          "output_type": "display_data",
          "data": {
            "text/html": [
              "<pre>| 3         | 4        | 0.573725     | 0.847626          | 0.846115            |</pre>"
            ],
            "text/plain": [
              "| 3         | 4        | 0.573725     | 0.847626          | 0.846115            |"
            ]
          },
          "metadata": {
            "tags": []
          }
        },
        {
          "output_type": "display_data",
          "data": {
            "text/html": [
              "<pre>| 4         | 5        | 0.734384     | 0.847708          | 0.846385            |</pre>"
            ],
            "text/plain": [
              "| 4         | 5        | 0.734384     | 0.847708          | 0.846385            |"
            ]
          },
          "metadata": {
            "tags": []
          }
        },
        {
          "output_type": "display_data",
          "data": {
            "text/html": [
              "<pre>| 5         | 6        | 0.892319     | 0.847708          | 0.846385            |</pre>"
            ],
            "text/plain": [
              "| 5         | 6        | 0.892319     | 0.847708          | 0.846385            |"
            ]
          },
          "metadata": {
            "tags": []
          }
        },
        {
          "output_type": "display_data",
          "data": {
            "text/html": [
              "<pre>| 6         | 7        | 1.050679     | 0.847708          | 0.846385            |</pre>"
            ],
            "text/plain": [
              "| 6         | 7        | 1.050679     | 0.847708          | 0.846385            |"
            ]
          },
          "metadata": {
            "tags": []
          }
        },
        {
          "output_type": "display_data",
          "data": {
            "text/html": [
              "<pre>+-----------+----------+--------------+-------------------+---------------------+</pre>"
            ],
            "text/plain": [
              "+-----------+----------+--------------+-------------------+---------------------+"
            ]
          },
          "metadata": {
            "tags": []
          }
        },
        {
          "output_type": "display_data",
          "data": {
            "text/html": [
              "<pre>SUCCESS: Optimal solution found.</pre>"
            ],
            "text/plain": [
              "SUCCESS: Optimal solution found."
            ]
          },
          "metadata": {
            "tags": []
          }
        },
        {
          "output_type": "display_data",
          "data": {
            "text/html": [
              "<pre></pre>"
            ],
            "text/plain": [
              ""
            ]
          },
          "metadata": {
            "tags": []
          }
        }
      ]
    },
    {
      "cell_type": "code",
      "metadata": {
        "id": "W5Ct81Fe_lv9",
        "colab_type": "code",
        "outputId": "b426f0dc-2a90-4426-de7b-b5e0a48ab8e4",
        "colab": {
          "base_uri": "https://localhost:8080/",
          "height": 706
        }
      },
      "source": [
        "selected_words_model"
      ],
      "execution_count": 0,
      "outputs": [
        {
          "output_type": "execute_result",
          "data": {
            "text/plain": [
              "Class                          : LogisticClassifier\n",
              "\n",
              "Schema\n",
              "------\n",
              "Number of coefficients         : 12\n",
              "Number of examples             : 133448\n",
              "Number of classes              : 2\n",
              "Number of feature columns      : 11\n",
              "Number of unpacked features    : 11\n",
              "\n",
              "Hyperparameters\n",
              "---------------\n",
              "L1 penalty                     : 0.0\n",
              "L2 penalty                     : 0.01\n",
              "\n",
              "Training Summary\n",
              "----------------\n",
              "Solver                         : newton\n",
              "Solver iterations              : 6\n",
              "Solver status                  : SUCCESS: Optimal solution found.\n",
              "Training time (sec)            : 1.102\n",
              "\n",
              "Settings\n",
              "--------\n",
              "Log-likelihood                 : 52926.808\n",
              "\n",
              "Highest Positive Coefficients\n",
              "-----------------------------\n",
              "love                           : 1.3593\n",
              "(intercept)                    : 1.3366\n",
              "awesome                        : 1.1335\n",
              "amazing                        : 1.1001\n",
              "fantastic                      : 0.8858\n",
              "\n",
              "Lowest Negative Coefficients\n",
              "----------------------------\n",
              "horrible                       : -2.2513\n",
              "terrible                       : -2.2237\n",
              "awful                          : -2.0529\n",
              "hate                           : -1.3484\n",
              "bad                            : -0.9915"
            ]
          },
          "metadata": {
            "tags": []
          },
          "execution_count": 40
        }
      ]
    },
    {
      "cell_type": "markdown",
      "metadata": {
        "id": "GPmIfYGl7He4",
        "colab_type": "text"
      },
      "source": [
        "##Q3. Compare the accuracy of different sentiment analysis model"
      ]
    },
    {
      "cell_type": "code",
      "metadata": {
        "id": "oOwfpcMc6MHf",
        "colab_type": "code",
        "outputId": "9014df7f-56e5-430a-811b-3173fde6699d",
        "colab": {
          "base_uri": "https://localhost:8080/",
          "height": 857
        }
      },
      "source": [
        "selected_words_model.evaluate(test_data)"
      ],
      "execution_count": 0,
      "outputs": [
        {
          "output_type": "execute_result",
          "data": {
            "text/plain": [
              "{'accuracy': 0.8463848186404036,\n",
              " 'auc': 0.6936022046674926,\n",
              " 'confusion_matrix': Columns:\n",
              " \ttarget_label\tint\n",
              " \tpredicted_label\tint\n",
              " \tcount\tint\n",
              " \n",
              " Rows: 4\n",
              " \n",
              " Data:\n",
              " +--------------+-----------------+-------+\n",
              " | target_label | predicted_label | count |\n",
              " +--------------+-----------------+-------+\n",
              " |      1       |        0        |  159  |\n",
              " |      0       |        0        |  371  |\n",
              " |      0       |        1        |  4957 |\n",
              " |      1       |        1        | 27817 |\n",
              " +--------------+-----------------+-------+\n",
              " [4 rows x 3 columns],\n",
              " 'f1_score': 0.9157860082304526,\n",
              " 'log_loss': 0.3962265467087835,\n",
              " 'precision': 0.8487520595594068,\n",
              " 'recall': 0.9943165570488991,\n",
              " 'roc_curve': Columns:\n",
              " \tthreshold\tfloat\n",
              " \tfpr\tfloat\n",
              " \ttpr\tfloat\n",
              " \tp\tint\n",
              " \tn\tint\n",
              " \n",
              " Rows: 100001\n",
              " \n",
              " Data:\n",
              " +-----------+--------------------+-----+-------+------+\n",
              " | threshold |        fpr         | tpr |   p   |  n   |\n",
              " +-----------+--------------------+-----+-------+------+\n",
              " |    0.0    |        1.0         | 1.0 | 27976 | 5328 |\n",
              " |   1e-05   |        1.0         | 1.0 | 27976 | 5328 |\n",
              " |   2e-05   |        1.0         | 1.0 | 27976 | 5328 |\n",
              " |   3e-05   | 0.9998123123123123 | 1.0 | 27976 | 5328 |\n",
              " |   4e-05   | 0.9998123123123123 | 1.0 | 27976 | 5328 |\n",
              " |   5e-05   | 0.9998123123123123 | 1.0 | 27976 | 5328 |\n",
              " |   6e-05   | 0.9998123123123123 | 1.0 | 27976 | 5328 |\n",
              " |   7e-05   | 0.9998123123123123 | 1.0 | 27976 | 5328 |\n",
              " |   8e-05   | 0.9998123123123123 | 1.0 | 27976 | 5328 |\n",
              " |   9e-05   | 0.9998123123123123 | 1.0 | 27976 | 5328 |\n",
              " +-----------+--------------------+-----+-------+------+\n",
              " [100001 rows x 5 columns]\n",
              " Note: Only the head of the SFrame is printed.\n",
              " You can use print_rows(num_rows=m, num_columns=n) to print more rows and columns.}"
            ]
          },
          "metadata": {
            "tags": []
          },
          "execution_count": 41
        }
      ]
    },
    {
      "cell_type": "markdown",
      "metadata": {
        "id": "2kqQvqtC73ma",
        "colab_type": "text"
      },
      "source": [
        "##Q4. Solve for ‘Baby Trend Diaper Champ’."
      ]
    },
    {
      "cell_type": "code",
      "metadata": {
        "id": "x1qDI6-A7cSP",
        "colab_type": "code",
        "outputId": "f4ee215f-19e4-4665-f0b1-d9d6763167c3",
        "colab": {
          "base_uri": "https://localhost:8080/",
          "height": 34
        }
      },
      "source": [
        "diaper_champ_reviews = products[products['name']=='Baby Trend Diaper Champ']\n",
        "len(diaper_champ_reviews)"
      ],
      "execution_count": 0,
      "outputs": [
        {
          "output_type": "execute_result",
          "data": {
            "text/plain": [
              "298"
            ]
          },
          "metadata": {
            "tags": []
          },
          "execution_count": 28
        }
      ]
    },
    {
      "cell_type": "code",
      "metadata": {
        "id": "9BsfJwzF-DeF",
        "colab_type": "code",
        "outputId": "b6685181-0783-48e1-d169-a2357b67575f",
        "colab": {
          "base_uri": "https://localhost:8080/",
          "height": 54
        }
      },
      "source": [
        "diaper_champ_reviews['predicted_sentiment'] = sentiment_model.predict(diaper_champ_reviews, output_type='probability')\n",
        "diaper_champ_reviews.sort('predicted_sentiment', ascending=False)[0]['review']"
      ],
      "execution_count": 0,
      "outputs": [
        {
          "output_type": "execute_result",
          "data": {
            "text/plain": [
              "\"I read a review below that can explain exactly what we experienced. We've had it for 16 months and it has worked wonderful for us. No smells, change it out once a week, easy to clean. Then a diaper snagged this foam material in the head part, so I pulled the rest of the foam out. Big mistake!!! Now it can no loner retain the stinkiness and we're looking for a replacement. Be careful of overloading and never take out that foam piece that is cushioned between pieces. I have figured out that it is key to keeping the stink out.\""
            ]
          },
          "metadata": {
            "tags": []
          },
          "execution_count": 34
        }
      ]
    },
    {
      "cell_type": "code",
      "metadata": {
        "id": "HS052kIG7iII",
        "colab_type": "code",
        "outputId": "1f8b7eca-3eaf-4ac2-a3c5-ba179d618cf2",
        "colab": {
          "base_uri": "https://localhost:8080/",
          "height": 643
        }
      },
      "source": [
        "diaper_champ_reviews['predicted_sentiment'] = selected_words_model.predict(diaper_champ_reviews,output_type='probability')\n",
        "diaper_champ_reviews.sort('predicted_sentiment',ascending=False)"
      ],
      "execution_count": 0,
      "outputs": [
        {
          "output_type": "execute_result",
          "data": {
            "text/html": [
              "<div style=\"max-height:1000px;max-width:1500px;overflow:auto;\"><table frame=\"box\" rules=\"cols\">\n",
              "    <tr>\n",
              "        <th style=\"padding-left: 1em; padding-right: 1em; text-align: center\">name</th>\n",
              "        <th style=\"padding-left: 1em; padding-right: 1em; text-align: center\">review</th>\n",
              "        <th style=\"padding-left: 1em; padding-right: 1em; text-align: center\">rating</th>\n",
              "        <th style=\"padding-left: 1em; padding-right: 1em; text-align: center\">word_count</th>\n",
              "        <th style=\"padding-left: 1em; padding-right: 1em; text-align: center\">awesome</th>\n",
              "        <th style=\"padding-left: 1em; padding-right: 1em; text-align: center\">great</th>\n",
              "        <th style=\"padding-left: 1em; padding-right: 1em; text-align: center\">fantastic</th>\n",
              "    </tr>\n",
              "    <tr>\n",
              "        <td style=\"padding-left: 1em; padding-right: 1em; text-align: center; vertical-align: top\">Baby Trend Diaper Champ</td>\n",
              "        <td style=\"padding-left: 1em; padding-right: 1em; text-align: center; vertical-align: top\">I LOVE LOVE LOVE this<br>product! It is SO much ...</td>\n",
              "        <td style=\"padding-left: 1em; padding-right: 1em; text-align: center; vertical-align: top\">4.0</td>\n",
              "        <td style=\"padding-left: 1em; padding-right: 1em; text-align: center; vertical-align: top\">{&#x27;sorry&#x27;: 1.0, &#x27;be&#x27;: 1.0,<br>&#x27;will&#x27;: 1.0, ...</td>\n",
              "        <td style=\"padding-left: 1em; padding-right: 1em; text-align: center; vertical-align: top\">0.0</td>\n",
              "        <td style=\"padding-left: 1em; padding-right: 1em; text-align: center; vertical-align: top\">1.0</td>\n",
              "        <td style=\"padding-left: 1em; padding-right: 1em; text-align: center; vertical-align: top\">0.0</td>\n",
              "    </tr>\n",
              "    <tr>\n",
              "        <td style=\"padding-left: 1em; padding-right: 1em; text-align: center; vertical-align: top\">Baby Trend Diaper Champ</td>\n",
              "        <td style=\"padding-left: 1em; padding-right: 1em; text-align: center; vertical-align: top\">I received my Diaper<br>Champ at my baby shower ...</td>\n",
              "        <td style=\"padding-left: 1em; padding-right: 1em; text-align: center; vertical-align: top\">5.0</td>\n",
              "        <td style=\"padding-left: 1em; padding-right: 1em; text-align: center; vertical-align: top\">{&#x27;second&#x27;: 2.0, &#x27;have&#x27;:<br>1.0, &#x27;are&#x27;: 1.0, &#x27;pull&#x27;: ...</td>\n",
              "        <td style=\"padding-left: 1em; padding-right: 1em; text-align: center; vertical-align: top\">0.0</td>\n",
              "        <td style=\"padding-left: 1em; padding-right: 1em; text-align: center; vertical-align: top\">0.0</td>\n",
              "        <td style=\"padding-left: 1em; padding-right: 1em; text-align: center; vertical-align: top\">0.0</td>\n",
              "    </tr>\n",
              "    <tr>\n",
              "        <td style=\"padding-left: 1em; padding-right: 1em; text-align: center; vertical-align: top\">Baby Trend Diaper Champ</td>\n",
              "        <td style=\"padding-left: 1em; padding-right: 1em; text-align: center; vertical-align: top\">Love it, love it, love<br>it!  This lives up to ...</td>\n",
              "        <td style=\"padding-left: 1em; padding-right: 1em; text-align: center; vertical-align: top\">5.0</td>\n",
              "        <td style=\"padding-left: 1em; padding-right: 1em; text-align: center; vertical-align: top\">{&#x27;parents&#x27;: 1.0, &#x27;new&#x27;:<br>1.0, &#x27;recommended&#x27;: 1.0, ...</td>\n",
              "        <td style=\"padding-left: 1em; padding-right: 1em; text-align: center; vertical-align: top\">0.0</td>\n",
              "        <td style=\"padding-left: 1em; padding-right: 1em; text-align: center; vertical-align: top\">0.0</td>\n",
              "        <td style=\"padding-left: 1em; padding-right: 1em; text-align: center; vertical-align: top\">0.0</td>\n",
              "    </tr>\n",
              "    <tr>\n",
              "        <td style=\"padding-left: 1em; padding-right: 1em; text-align: center; vertical-align: top\">Baby Trend Diaper Champ</td>\n",
              "        <td style=\"padding-left: 1em; padding-right: 1em; text-align: center; vertical-align: top\">Let me just say, I LOVE<br>THIS PRODUCT!!  I used ...</td>\n",
              "        <td style=\"padding-left: 1em; padding-right: 1em; text-align: center; vertical-align: top\">5.0</td>\n",
              "        <td style=\"padding-left: 1em; padding-right: 1em; text-align: center; vertical-align: top\">{&#x27;friends&#x27;: 1.0, &#x27;feces&#x27;:<br>1.0, &#x27;tank&#x27;: 1.0, ...</td>\n",
              "        <td style=\"padding-left: 1em; padding-right: 1em; text-align: center; vertical-align: top\">0.0</td>\n",
              "        <td style=\"padding-left: 1em; padding-right: 1em; text-align: center; vertical-align: top\">1.0</td>\n",
              "        <td style=\"padding-left: 1em; padding-right: 1em; text-align: center; vertical-align: top\">1.0</td>\n",
              "    </tr>\n",
              "    <tr>\n",
              "        <td style=\"padding-left: 1em; padding-right: 1em; text-align: center; vertical-align: top\">Baby Trend Diaper Champ</td>\n",
              "        <td style=\"padding-left: 1em; padding-right: 1em; text-align: center; vertical-align: top\">I have been using this<br>diaper pail for 41/2 ...</td>\n",
              "        <td style=\"padding-left: 1em; padding-right: 1em; text-align: center; vertical-align: top\">5.0</td>\n",
              "        <td style=\"padding-left: 1em; padding-right: 1em; text-align: center; vertical-align: top\">{&#x27;recommend&#x27;: 1.0,<br>&#x27;would&#x27;: 1.0, &#x27;with&#x27;: ...</td>\n",
              "        <td style=\"padding-left: 1em; padding-right: 1em; text-align: center; vertical-align: top\">0.0</td>\n",
              "        <td style=\"padding-left: 1em; padding-right: 1em; text-align: center; vertical-align: top\">2.0</td>\n",
              "        <td style=\"padding-left: 1em; padding-right: 1em; text-align: center; vertical-align: top\">0.0</td>\n",
              "    </tr>\n",
              "    <tr>\n",
              "        <td style=\"padding-left: 1em; padding-right: 1em; text-align: center; vertical-align: top\">Baby Trend Diaper Champ</td>\n",
              "        <td style=\"padding-left: 1em; padding-right: 1em; text-align: center; vertical-align: top\">Works great - no smells.<br>LOVE that it uses reg ...</td>\n",
              "        <td style=\"padding-left: 1em; padding-right: 1em; text-align: center; vertical-align: top\">5.0</td>\n",
              "        <td style=\"padding-left: 1em; padding-right: 1em; text-align: center; vertical-align: top\">{&#x27;plastic&#x27;: 1.0, &#x27;in&#x27;:<br>1.0, &#x27;each&#x27;: 1.0, ...</td>\n",
              "        <td style=\"padding-left: 1em; padding-right: 1em; text-align: center; vertical-align: top\">0.0</td>\n",
              "        <td style=\"padding-left: 1em; padding-right: 1em; text-align: center; vertical-align: top\">2.0</td>\n",
              "        <td style=\"padding-left: 1em; padding-right: 1em; text-align: center; vertical-align: top\">0.0</td>\n",
              "    </tr>\n",
              "    <tr>\n",
              "        <td style=\"padding-left: 1em; padding-right: 1em; text-align: center; vertical-align: top\">Baby Trend Diaper Champ</td>\n",
              "        <td style=\"padding-left: 1em; padding-right: 1em; text-align: center; vertical-align: top\">I love this diaper pale<br>and wouldn&#x27;t dream of ...</td>\n",
              "        <td style=\"padding-left: 1em; padding-right: 1em; text-align: center; vertical-align: top\">5.0</td>\n",
              "        <td style=\"padding-left: 1em; padding-right: 1em; text-align: center; vertical-align: top\">{&#x27;easy&#x27;: 1.0, &#x27;how&#x27;: 1.0,<br>&#x27;like&#x27;: 1.0, &#x27;on&#x27;: 1.0, ...</td>\n",
              "        <td style=\"padding-left: 1em; padding-right: 1em; text-align: center; vertical-align: top\">0.0</td>\n",
              "        <td style=\"padding-left: 1em; padding-right: 1em; text-align: center; vertical-align: top\">2.0</td>\n",
              "        <td style=\"padding-left: 1em; padding-right: 1em; text-align: center; vertical-align: top\">0.0</td>\n",
              "    </tr>\n",
              "    <tr>\n",
              "        <td style=\"padding-left: 1em; padding-right: 1em; text-align: center; vertical-align: top\">Baby Trend Diaper Champ</td>\n",
              "        <td style=\"padding-left: 1em; padding-right: 1em; text-align: center; vertical-align: top\">I love this diaper pail.<br>It keeps the diapers  ...</td>\n",
              "        <td style=\"padding-left: 1em; padding-right: 1em; text-align: center; vertical-align: top\">4.0</td>\n",
              "        <td style=\"padding-left: 1em; padding-right: 1em; text-align: center; vertical-align: top\">{&#x27;wish&#x27;: 1.0, &#x27;is&#x27;: 1.0,<br>&#x27;stars&#x27;: 1.0, &#x27;gave&#x27;: ...</td>\n",
              "        <td style=\"padding-left: 1em; padding-right: 1em; text-align: center; vertical-align: top\">0.0</td>\n",
              "        <td style=\"padding-left: 1em; padding-right: 1em; text-align: center; vertical-align: top\">0.0</td>\n",
              "        <td style=\"padding-left: 1em; padding-right: 1em; text-align: center; vertical-align: top\">0.0</td>\n",
              "    </tr>\n",
              "    <tr>\n",
              "        <td style=\"padding-left: 1em; padding-right: 1em; text-align: center; vertical-align: top\">Baby Trend Diaper Champ</td>\n",
              "        <td style=\"padding-left: 1em; padding-right: 1em; text-align: center; vertical-align: top\">I have a two-year-old son<br>and I love the Diaper ...</td>\n",
              "        <td style=\"padding-left: 1em; padding-right: 1em; text-align: center; vertical-align: top\">5.0</td>\n",
              "        <td style=\"padding-left: 1em; padding-right: 1em; text-align: center; vertical-align: top\">{&#x27;close&#x27;: 1.0, &#x27;sticky&#x27;:<br>1.0, &#x27;tightly&#x27;: 1.0, ...</td>\n",
              "        <td style=\"padding-left: 1em; padding-right: 1em; text-align: center; vertical-align: top\">0.0</td>\n",
              "        <td style=\"padding-left: 1em; padding-right: 1em; text-align: center; vertical-align: top\">0.0</td>\n",
              "        <td style=\"padding-left: 1em; padding-right: 1em; text-align: center; vertical-align: top\">0.0</td>\n",
              "    </tr>\n",
              "    <tr>\n",
              "        <td style=\"padding-left: 1em; padding-right: 1em; text-align: center; vertical-align: top\">Baby Trend Diaper Champ</td>\n",
              "        <td style=\"padding-left: 1em; padding-right: 1em; text-align: center; vertical-align: top\">I love this diaper pail!<br>It&#x27;s so easy to use a ...</td>\n",
              "        <td style=\"padding-left: 1em; padding-right: 1em; text-align: center; vertical-align: top\">5.0</td>\n",
              "        <td style=\"padding-left: 1em; padding-right: 1em; text-align: center; vertical-align: top\">{&#x27;some&#x27;: 1.0, &#x27;save&#x27;:<br>1.0, &#x27;refills&#x27;: 1.0, ...</td>\n",
              "        <td style=\"padding-left: 1em; padding-right: 1em; text-align: center; vertical-align: top\">0.0</td>\n",
              "        <td style=\"padding-left: 1em; padding-right: 1em; text-align: center; vertical-align: top\">0.0</td>\n",
              "        <td style=\"padding-left: 1em; padding-right: 1em; text-align: center; vertical-align: top\">0.0</td>\n",
              "    </tr>\n",
              "</table>\n",
              "<table frame=\"box\" rules=\"cols\">\n",
              "    <tr>\n",
              "        <th style=\"padding-left: 1em; padding-right: 1em; text-align: center\">amazing</th>\n",
              "        <th style=\"padding-left: 1em; padding-right: 1em; text-align: center\">love</th>\n",
              "        <th style=\"padding-left: 1em; padding-right: 1em; text-align: center\">horrible</th>\n",
              "        <th style=\"padding-left: 1em; padding-right: 1em; text-align: center\">bad</th>\n",
              "        <th style=\"padding-left: 1em; padding-right: 1em; text-align: center\">terrible</th>\n",
              "        <th style=\"padding-left: 1em; padding-right: 1em; text-align: center\">awful</th>\n",
              "        <th style=\"padding-left: 1em; padding-right: 1em; text-align: center\">wow</th>\n",
              "        <th style=\"padding-left: 1em; padding-right: 1em; text-align: center\">hate</th>\n",
              "        <th style=\"padding-left: 1em; padding-right: 1em; text-align: center\">sentiment</th>\n",
              "        <th style=\"padding-left: 1em; padding-right: 1em; text-align: center\">predicted_sentiment</th>\n",
              "    </tr>\n",
              "    <tr>\n",
              "        <td style=\"padding-left: 1em; padding-right: 1em; text-align: center; vertical-align: top\">0.0</td>\n",
              "        <td style=\"padding-left: 1em; padding-right: 1em; text-align: center; vertical-align: top\">3.0</td>\n",
              "        <td style=\"padding-left: 1em; padding-right: 1em; text-align: center; vertical-align: top\">0</td>\n",
              "        <td style=\"padding-left: 1em; padding-right: 1em; text-align: center; vertical-align: top\">0.0</td>\n",
              "        <td style=\"padding-left: 1em; padding-right: 1em; text-align: center; vertical-align: top\">0</td>\n",
              "        <td style=\"padding-left: 1em; padding-right: 1em; text-align: center; vertical-align: top\">0</td>\n",
              "        <td style=\"padding-left: 1em; padding-right: 1em; text-align: center; vertical-align: top\">0</td>\n",
              "        <td style=\"padding-left: 1em; padding-right: 1em; text-align: center; vertical-align: top\">0</td>\n",
              "        <td style=\"padding-left: 1em; padding-right: 1em; text-align: center; vertical-align: top\">1</td>\n",
              "        <td style=\"padding-left: 1em; padding-right: 1em; text-align: center; vertical-align: top\">0.998125362333512</td>\n",
              "    </tr>\n",
              "    <tr>\n",
              "        <td style=\"padding-left: 1em; padding-right: 1em; text-align: center; vertical-align: top\">0.0</td>\n",
              "        <td style=\"padding-left: 1em; padding-right: 1em; text-align: center; vertical-align: top\">3.0</td>\n",
              "        <td style=\"padding-left: 1em; padding-right: 1em; text-align: center; vertical-align: top\">0</td>\n",
              "        <td style=\"padding-left: 1em; padding-right: 1em; text-align: center; vertical-align: top\">0.0</td>\n",
              "        <td style=\"padding-left: 1em; padding-right: 1em; text-align: center; vertical-align: top\">0</td>\n",
              "        <td style=\"padding-left: 1em; padding-right: 1em; text-align: center; vertical-align: top\">0</td>\n",
              "        <td style=\"padding-left: 1em; padding-right: 1em; text-align: center; vertical-align: top\">0</td>\n",
              "        <td style=\"padding-left: 1em; padding-right: 1em; text-align: center; vertical-align: top\">0</td>\n",
              "        <td style=\"padding-left: 1em; padding-right: 1em; text-align: center; vertical-align: top\">1</td>\n",
              "        <td style=\"padding-left: 1em; padding-right: 1em; text-align: center; vertical-align: top\">0.9955677154227355</td>\n",
              "    </tr>\n",
              "    <tr>\n",
              "        <td style=\"padding-left: 1em; padding-right: 1em; text-align: center; vertical-align: top\">0.0</td>\n",
              "        <td style=\"padding-left: 1em; padding-right: 1em; text-align: center; vertical-align: top\">3.0</td>\n",
              "        <td style=\"padding-left: 1em; padding-right: 1em; text-align: center; vertical-align: top\">0</td>\n",
              "        <td style=\"padding-left: 1em; padding-right: 1em; text-align: center; vertical-align: top\">0.0</td>\n",
              "        <td style=\"padding-left: 1em; padding-right: 1em; text-align: center; vertical-align: top\">0</td>\n",
              "        <td style=\"padding-left: 1em; padding-right: 1em; text-align: center; vertical-align: top\">0</td>\n",
              "        <td style=\"padding-left: 1em; padding-right: 1em; text-align: center; vertical-align: top\">0</td>\n",
              "        <td style=\"padding-left: 1em; padding-right: 1em; text-align: center; vertical-align: top\">0</td>\n",
              "        <td style=\"padding-left: 1em; padding-right: 1em; text-align: center; vertical-align: top\">1</td>\n",
              "        <td style=\"padding-left: 1em; padding-right: 1em; text-align: center; vertical-align: top\">0.9955677154227355</td>\n",
              "    </tr>\n",
              "    <tr>\n",
              "        <td style=\"padding-left: 1em; padding-right: 1em; text-align: center; vertical-align: top\">0.0</td>\n",
              "        <td style=\"padding-left: 1em; padding-right: 1em; text-align: center; vertical-align: top\">1.0</td>\n",
              "        <td style=\"padding-left: 1em; padding-right: 1em; text-align: center; vertical-align: top\">0</td>\n",
              "        <td style=\"padding-left: 1em; padding-right: 1em; text-align: center; vertical-align: top\">0.0</td>\n",
              "        <td style=\"padding-left: 1em; padding-right: 1em; text-align: center; vertical-align: top\">0</td>\n",
              "        <td style=\"padding-left: 1em; padding-right: 1em; text-align: center; vertical-align: top\">0</td>\n",
              "        <td style=\"padding-left: 1em; padding-right: 1em; text-align: center; vertical-align: top\">0</td>\n",
              "        <td style=\"padding-left: 1em; padding-right: 1em; text-align: center; vertical-align: top\">0</td>\n",
              "        <td style=\"padding-left: 1em; padding-right: 1em; text-align: center; vertical-align: top\">1</td>\n",
              "        <td style=\"padding-left: 1em; padding-right: 1em; text-align: center; vertical-align: top\">0.9883959649944535</td>\n",
              "    </tr>\n",
              "    <tr>\n",
              "        <td style=\"padding-left: 1em; padding-right: 1em; text-align: center; vertical-align: top\">0.0</td>\n",
              "        <td style=\"padding-left: 1em; padding-right: 1em; text-align: center; vertical-align: top\">1.0</td>\n",
              "        <td style=\"padding-left: 1em; padding-right: 1em; text-align: center; vertical-align: top\">0</td>\n",
              "        <td style=\"padding-left: 1em; padding-right: 1em; text-align: center; vertical-align: top\">0.0</td>\n",
              "        <td style=\"padding-left: 1em; padding-right: 1em; text-align: center; vertical-align: top\">0</td>\n",
              "        <td style=\"padding-left: 1em; padding-right: 1em; text-align: center; vertical-align: top\">0</td>\n",
              "        <td style=\"padding-left: 1em; padding-right: 1em; text-align: center; vertical-align: top\">0</td>\n",
              "        <td style=\"padding-left: 1em; padding-right: 1em; text-align: center; vertical-align: top\">0</td>\n",
              "        <td style=\"padding-left: 1em; padding-right: 1em; text-align: center; vertical-align: top\">1</td>\n",
              "        <td style=\"padding-left: 1em; padding-right: 1em; text-align: center; vertical-align: top\">0.9881322423088134</td>\n",
              "    </tr>\n",
              "    <tr>\n",
              "        <td style=\"padding-left: 1em; padding-right: 1em; text-align: center; vertical-align: top\">0.0</td>\n",
              "        <td style=\"padding-left: 1em; padding-right: 1em; text-align: center; vertical-align: top\">1.0</td>\n",
              "        <td style=\"padding-left: 1em; padding-right: 1em; text-align: center; vertical-align: top\">0</td>\n",
              "        <td style=\"padding-left: 1em; padding-right: 1em; text-align: center; vertical-align: top\">0.0</td>\n",
              "        <td style=\"padding-left: 1em; padding-right: 1em; text-align: center; vertical-align: top\">0</td>\n",
              "        <td style=\"padding-left: 1em; padding-right: 1em; text-align: center; vertical-align: top\">0</td>\n",
              "        <td style=\"padding-left: 1em; padding-right: 1em; text-align: center; vertical-align: top\">0</td>\n",
              "        <td style=\"padding-left: 1em; padding-right: 1em; text-align: center; vertical-align: top\">0</td>\n",
              "        <td style=\"padding-left: 1em; padding-right: 1em; text-align: center; vertical-align: top\">1</td>\n",
              "        <td style=\"padding-left: 1em; padding-right: 1em; text-align: center; vertical-align: top\">0.9881322423088134</td>\n",
              "    </tr>\n",
              "    <tr>\n",
              "        <td style=\"padding-left: 1em; padding-right: 1em; text-align: center; vertical-align: top\">0.0</td>\n",
              "        <td style=\"padding-left: 1em; padding-right: 1em; text-align: center; vertical-align: top\">1.0</td>\n",
              "        <td style=\"padding-left: 1em; padding-right: 1em; text-align: center; vertical-align: top\">0</td>\n",
              "        <td style=\"padding-left: 1em; padding-right: 1em; text-align: center; vertical-align: top\">0.0</td>\n",
              "        <td style=\"padding-left: 1em; padding-right: 1em; text-align: center; vertical-align: top\">0</td>\n",
              "        <td style=\"padding-left: 1em; padding-right: 1em; text-align: center; vertical-align: top\">0</td>\n",
              "        <td style=\"padding-left: 1em; padding-right: 1em; text-align: center; vertical-align: top\">0</td>\n",
              "        <td style=\"padding-left: 1em; padding-right: 1em; text-align: center; vertical-align: top\">0</td>\n",
              "        <td style=\"padding-left: 1em; padding-right: 1em; text-align: center; vertical-align: top\">1</td>\n",
              "        <td style=\"padding-left: 1em; padding-right: 1em; text-align: center; vertical-align: top\">0.9881322423088134</td>\n",
              "    </tr>\n",
              "    <tr>\n",
              "        <td style=\"padding-left: 1em; padding-right: 1em; text-align: center; vertical-align: top\">0.0</td>\n",
              "        <td style=\"padding-left: 1em; padding-right: 1em; text-align: center; vertical-align: top\">2.0</td>\n",
              "        <td style=\"padding-left: 1em; padding-right: 1em; text-align: center; vertical-align: top\">0</td>\n",
              "        <td style=\"padding-left: 1em; padding-right: 1em; text-align: center; vertical-align: top\">0.0</td>\n",
              "        <td style=\"padding-left: 1em; padding-right: 1em; text-align: center; vertical-align: top\">0</td>\n",
              "        <td style=\"padding-left: 1em; padding-right: 1em; text-align: center; vertical-align: top\">0</td>\n",
              "        <td style=\"padding-left: 1em; padding-right: 1em; text-align: center; vertical-align: top\">0</td>\n",
              "        <td style=\"padding-left: 1em; padding-right: 1em; text-align: center; vertical-align: top\">0</td>\n",
              "        <td style=\"padding-left: 1em; padding-right: 1em; text-align: center; vertical-align: top\">1</td>\n",
              "        <td style=\"padding-left: 1em; padding-right: 1em; text-align: center; vertical-align: top\">0.9829620803909049</td>\n",
              "    </tr>\n",
              "    <tr>\n",
              "        <td style=\"padding-left: 1em; padding-right: 1em; text-align: center; vertical-align: top\">0.0</td>\n",
              "        <td style=\"padding-left: 1em; padding-right: 1em; text-align: center; vertical-align: top\">2.0</td>\n",
              "        <td style=\"padding-left: 1em; padding-right: 1em; text-align: center; vertical-align: top\">0</td>\n",
              "        <td style=\"padding-left: 1em; padding-right: 1em; text-align: center; vertical-align: top\">0.0</td>\n",
              "        <td style=\"padding-left: 1em; padding-right: 1em; text-align: center; vertical-align: top\">0</td>\n",
              "        <td style=\"padding-left: 1em; padding-right: 1em; text-align: center; vertical-align: top\">0</td>\n",
              "        <td style=\"padding-left: 1em; padding-right: 1em; text-align: center; vertical-align: top\">0</td>\n",
              "        <td style=\"padding-left: 1em; padding-right: 1em; text-align: center; vertical-align: top\">0</td>\n",
              "        <td style=\"padding-left: 1em; padding-right: 1em; text-align: center; vertical-align: top\">1</td>\n",
              "        <td style=\"padding-left: 1em; padding-right: 1em; text-align: center; vertical-align: top\">0.9829620803909049</td>\n",
              "    </tr>\n",
              "    <tr>\n",
              "        <td style=\"padding-left: 1em; padding-right: 1em; text-align: center; vertical-align: top\">0.0</td>\n",
              "        <td style=\"padding-left: 1em; padding-right: 1em; text-align: center; vertical-align: top\">2.0</td>\n",
              "        <td style=\"padding-left: 1em; padding-right: 1em; text-align: center; vertical-align: top\">0</td>\n",
              "        <td style=\"padding-left: 1em; padding-right: 1em; text-align: center; vertical-align: top\">0.0</td>\n",
              "        <td style=\"padding-left: 1em; padding-right: 1em; text-align: center; vertical-align: top\">0</td>\n",
              "        <td style=\"padding-left: 1em; padding-right: 1em; text-align: center; vertical-align: top\">0</td>\n",
              "        <td style=\"padding-left: 1em; padding-right: 1em; text-align: center; vertical-align: top\">0</td>\n",
              "        <td style=\"padding-left: 1em; padding-right: 1em; text-align: center; vertical-align: top\">0</td>\n",
              "        <td style=\"padding-left: 1em; padding-right: 1em; text-align: center; vertical-align: top\">1</td>\n",
              "        <td style=\"padding-left: 1em; padding-right: 1em; text-align: center; vertical-align: top\">0.9829620803909049</td>\n",
              "    </tr>\n",
              "</table>\n",
              "[298 rows x 17 columns]<br/>Note: Only the head of the SFrame is printed.<br/>You can use print_rows(num_rows=m, num_columns=n) to print more rows and columns.\n",
              "</div>"
            ],
            "text/plain": [
              "Columns:\n",
              "\tname\tstr\n",
              "\treview\tstr\n",
              "\trating\tfloat\n",
              "\tword_count\tdict\n",
              "\tawesome\tfloat\n",
              "\tgreat\tfloat\n",
              "\tfantastic\tfloat\n",
              "\tamazing\tfloat\n",
              "\tlove\tfloat\n",
              "\thorrible\tint\n",
              "\tbad\tfloat\n",
              "\tterrible\tint\n",
              "\tawful\tint\n",
              "\twow\tint\n",
              "\thate\tint\n",
              "\tsentiment\tint\n",
              "\tpredicted_sentiment\tfloat\n",
              "\n",
              "Rows: 298\n",
              "\n",
              "Data:\n",
              "+-------------------------+-------------------------------+--------+\n",
              "|           name          |             review            | rating |\n",
              "+-------------------------+-------------------------------+--------+\n",
              "| Baby Trend Diaper Champ | I LOVE LOVE LOVE this prod... |  4.0   |\n",
              "| Baby Trend Diaper Champ | I received my Diaper Champ... |  5.0   |\n",
              "| Baby Trend Diaper Champ | Love it, love it, love it!... |  5.0   |\n",
              "| Baby Trend Diaper Champ | Let me just say, I LOVE TH... |  5.0   |\n",
              "| Baby Trend Diaper Champ | I have been using this dia... |  5.0   |\n",
              "| Baby Trend Diaper Champ | Works great - no smells.  ... |  5.0   |\n",
              "| Baby Trend Diaper Champ | I love this diaper pale an... |  5.0   |\n",
              "| Baby Trend Diaper Champ | I love this diaper pail. I... |  4.0   |\n",
              "| Baby Trend Diaper Champ | I have a two-year-old son ... |  5.0   |\n",
              "| Baby Trend Diaper Champ | I love this diaper pail!  ... |  5.0   |\n",
              "+-------------------------+-------------------------------+--------+\n",
              "+-------------------------------+---------+-------+-----------+---------+------+\n",
              "|           word_count          | awesome | great | fantastic | amazing | love |\n",
              "+-------------------------------+---------+-------+-----------+---------+------+\n",
              "| {'sorry': 1.0, 'be': 1.0, ... |   0.0   |  1.0  |    0.0    |   0.0   | 3.0  |\n",
              "| {'second': 2.0, 'have': 1.... |   0.0   |  0.0  |    0.0    |   0.0   | 3.0  |\n",
              "| {'parents': 1.0, 'new': 1.... |   0.0   |  0.0  |    0.0    |   0.0   | 3.0  |\n",
              "| {'friends': 1.0, 'feces': ... |   0.0   |  1.0  |    1.0    |   0.0   | 1.0  |\n",
              "| {'recommend': 1.0, 'would'... |   0.0   |  2.0  |    0.0    |   0.0   | 1.0  |\n",
              "| {'plastic': 1.0, 'in': 1.0... |   0.0   |  2.0  |    0.0    |   0.0   | 1.0  |\n",
              "| {'easy': 1.0, 'how': 1.0, ... |   0.0   |  2.0  |    0.0    |   0.0   | 1.0  |\n",
              "| {'wish': 1.0, 'is': 1.0, '... |   0.0   |  0.0  |    0.0    |   0.0   | 2.0  |\n",
              "| {'close': 1.0, 'sticky': 1... |   0.0   |  0.0  |    0.0    |   0.0   | 2.0  |\n",
              "| {'some': 1.0, 'save': 1.0,... |   0.0   |  0.0  |    0.0    |   0.0   | 2.0  |\n",
              "+-------------------------------+---------+-------+-----------+---------+------+\n",
              "+----------+-----+----------+-------+-----+------+-----------+\n",
              "| horrible | bad | terrible | awful | wow | hate | sentiment |\n",
              "+----------+-----+----------+-------+-----+------+-----------+\n",
              "|    0     | 0.0 |    0     |   0   |  0  |  0   |     1     |\n",
              "|    0     | 0.0 |    0     |   0   |  0  |  0   |     1     |\n",
              "|    0     | 0.0 |    0     |   0   |  0  |  0   |     1     |\n",
              "|    0     | 0.0 |    0     |   0   |  0  |  0   |     1     |\n",
              "|    0     | 0.0 |    0     |   0   |  0  |  0   |     1     |\n",
              "|    0     | 0.0 |    0     |   0   |  0  |  0   |     1     |\n",
              "|    0     | 0.0 |    0     |   0   |  0  |  0   |     1     |\n",
              "|    0     | 0.0 |    0     |   0   |  0  |  0   |     1     |\n",
              "|    0     | 0.0 |    0     |   0   |  0  |  0   |     1     |\n",
              "|    0     | 0.0 |    0     |   0   |  0  |  0   |     1     |\n",
              "+----------+-----+----------+-------+-----+------+-----------+\n",
              "+---------------------+\n",
              "| predicted_sentiment |\n",
              "+---------------------+\n",
              "|  0.998125362333512  |\n",
              "|  0.9955677154227355 |\n",
              "|  0.9955677154227355 |\n",
              "|  0.9883959649944535 |\n",
              "|  0.9881322423088134 |\n",
              "|  0.9881322423088134 |\n",
              "|  0.9881322423088134 |\n",
              "|  0.9829620803909049 |\n",
              "|  0.9829620803909049 |\n",
              "|  0.9829620803909049 |\n",
              "+---------------------+\n",
              "[298 rows x 17 columns]\n",
              "Note: Only the head of the SFrame is printed.\n",
              "You can use print_rows(num_rows=m, num_columns=n) to print more rows and columns."
            ]
          },
          "metadata": {
            "tags": []
          },
          "execution_count": 36
        }
      ]
    },
    {
      "cell_type": "code",
      "metadata": {
        "id": "M4QY77zy8gWC",
        "colab_type": "code",
        "outputId": "dcb8f721-30d1-43b9-fb7c-fdb98d74f3ad",
        "colab": {
          "base_uri": "https://localhost:8080/",
          "height": 54
        }
      },
      "source": [
        "diaper_champ_reviews.sort('predicted_sentiment',ascending=False)[0]['review']"
      ],
      "execution_count": 0,
      "outputs": [
        {
          "output_type": "execute_result",
          "data": {
            "text/plain": [
              "'I LOVE LOVE LOVE this product! It is SO much easier to use than the Diaper Genie, (you need a PHD in poopy to figure out how to use the darn thing!) and it even takes the same bags as my kitchen trash can, shich is super convenient, and cost efficient as I can buy them in bulk.The only reason for not rating it a 5 star was that I did have one small problem with it. The foam gasket in the barrell which keeps the poopy smell inside the unit ripped somehow, and it got VERY stinky. HOWEVER, I contacted the manufacturer though their website, and received an email back the same day stating that this was unusual, and that replacement gaskets were on their way to me. They arrived inside of a week and after replacing, it works great again! (They even sent me extras should it happen again)I HIGHLY reccomend this diaper pail over ANY competitors, you will not be sorry!'"
            ]
          },
          "metadata": {
            "tags": []
          },
          "execution_count": 37
        }
      ]
    },
    {
      "cell_type": "code",
      "metadata": {
        "id": "EVIeIUAr-Zog",
        "colab_type": "code",
        "outputId": "3fcc2794-360c-4a06-8dd6-b2748f0da651",
        "colab": {
          "base_uri": "https://localhost:8080/",
          "height": 67
        }
      },
      "source": [
        "selected_words_model.predict(diaper_champ_reviews.sort('predicted_sentiment',ascending=False)[0:1],output_type='probability')"
      ],
      "execution_count": 0,
      "outputs": [
        {
          "output_type": "execute_result",
          "data": {
            "text/plain": [
              "dtype: float\n",
              "Rows: 1\n",
              "[0.998125362333512]"
            ]
          },
          "metadata": {
            "tags": []
          },
          "execution_count": 38
        }
      ]
    },
    {
      "cell_type": "code",
      "metadata": {
        "id": "SjsnLXJh-mVJ",
        "colab_type": "code",
        "outputId": "1ebc173a-cbe5-4354-d2af-1ba20568e564",
        "colab": {
          "base_uri": "https://localhost:8080/",
          "height": 643
        }
      },
      "source": [
        "diaper_champ_reviews['predicted_sentiment'] = sentiment_model.predict(diaper_champ_reviews, output_type='probability')\n",
        "diaper_champ_reviews.sort('predicted_sentiment', ascending=False)"
      ],
      "execution_count": 0,
      "outputs": [
        {
          "output_type": "execute_result",
          "data": {
            "text/html": [
              "<div style=\"max-height:1000px;max-width:1500px;overflow:auto;\"><table frame=\"box\" rules=\"cols\">\n",
              "    <tr>\n",
              "        <th style=\"padding-left: 1em; padding-right: 1em; text-align: center\">name</th>\n",
              "        <th style=\"padding-left: 1em; padding-right: 1em; text-align: center\">review</th>\n",
              "        <th style=\"padding-left: 1em; padding-right: 1em; text-align: center\">rating</th>\n",
              "        <th style=\"padding-left: 1em; padding-right: 1em; text-align: center\">word_count</th>\n",
              "        <th style=\"padding-left: 1em; padding-right: 1em; text-align: center\">awesome</th>\n",
              "        <th style=\"padding-left: 1em; padding-right: 1em; text-align: center\">great</th>\n",
              "        <th style=\"padding-left: 1em; padding-right: 1em; text-align: center\">fantastic</th>\n",
              "    </tr>\n",
              "    <tr>\n",
              "        <td style=\"padding-left: 1em; padding-right: 1em; text-align: center; vertical-align: top\">Baby Trend Diaper Champ</td>\n",
              "        <td style=\"padding-left: 1em; padding-right: 1em; text-align: center; vertical-align: top\">I read a review below<br>that can explain exactly ...</td>\n",
              "        <td style=\"padding-left: 1em; padding-right: 1em; text-align: center; vertical-align: top\">4.0</td>\n",
              "        <td style=\"padding-left: 1em; padding-right: 1em; text-align: center; vertical-align: top\">{&#x27;key&#x27;: 1.0, &#x27;have&#x27;: 1.0,<br>&#x27;pieces&#x27;: 1.0, &#x27;betwe ...</td>\n",
              "        <td style=\"padding-left: 1em; padding-right: 1em; text-align: center; vertical-align: top\">0.0</td>\n",
              "        <td style=\"padding-left: 1em; padding-right: 1em; text-align: center; vertical-align: top\">0.0</td>\n",
              "        <td style=\"padding-left: 1em; padding-right: 1em; text-align: center; vertical-align: top\">0.0</td>\n",
              "    </tr>\n",
              "    <tr>\n",
              "        <td style=\"padding-left: 1em; padding-right: 1em; text-align: center; vertical-align: top\">Baby Trend Diaper Champ</td>\n",
              "        <td style=\"padding-left: 1em; padding-right: 1em; text-align: center; vertical-align: top\">I have never written a<br>review for Amazon but I ...</td>\n",
              "        <td style=\"padding-left: 1em; padding-right: 1em; text-align: center; vertical-align: top\">5.0</td>\n",
              "        <td style=\"padding-left: 1em; padding-right: 1em; text-align: center; vertical-align: top\">{&#x27;priceless&#x27;: 1.0,<br>&#x27;knows&#x27;: 1.0, &#x27;parent&#x27;: ...</td>\n",
              "        <td style=\"padding-left: 1em; padding-right: 1em; text-align: center; vertical-align: top\">0.0</td>\n",
              "        <td style=\"padding-left: 1em; padding-right: 1em; text-align: center; vertical-align: top\">0.0</td>\n",
              "        <td style=\"padding-left: 1em; padding-right: 1em; text-align: center; vertical-align: top\">0.0</td>\n",
              "    </tr>\n",
              "    <tr>\n",
              "        <td style=\"padding-left: 1em; padding-right: 1em; text-align: center; vertical-align: top\">Baby Trend Diaper Champ</td>\n",
              "        <td style=\"padding-left: 1em; padding-right: 1em; text-align: center; vertical-align: top\">I originally put this<br>item on my baby registry ...</td>\n",
              "        <td style=\"padding-left: 1em; padding-right: 1em; text-align: center; vertical-align: top\">5.0</td>\n",
              "        <td style=\"padding-left: 1em; padding-right: 1em; text-align: center; vertical-align: top\">{&#x27;price&#x27;: 1.0,<br>&#x27;suggestions&#x27;: 1.0, ...</td>\n",
              "        <td style=\"padding-left: 1em; padding-right: 1em; text-align: center; vertical-align: top\">0.0</td>\n",
              "        <td style=\"padding-left: 1em; padding-right: 1em; text-align: center; vertical-align: top\">0.0</td>\n",
              "        <td style=\"padding-left: 1em; padding-right: 1em; text-align: center; vertical-align: top\">0.0</td>\n",
              "    </tr>\n",
              "    <tr>\n",
              "        <td style=\"padding-left: 1em; padding-right: 1em; text-align: center; vertical-align: top\">Baby Trend Diaper Champ</td>\n",
              "        <td style=\"padding-left: 1em; padding-right: 1em; text-align: center; vertical-align: top\">Baby Luke can turn a<br>clean diaper to a dirty ...</td>\n",
              "        <td style=\"padding-left: 1em; padding-right: 1em; text-align: center; vertical-align: top\">5.0</td>\n",
              "        <td style=\"padding-left: 1em; padding-right: 1em; text-align: center; vertical-align: top\">{&#x27;around&#x27;: 1.0, &#x27;any&#x27;:<br>1.0, &#x27;t&#x27;: 1.0, &#x27;isn&#x27;: ...</td>\n",
              "        <td style=\"padding-left: 1em; padding-right: 1em; text-align: center; vertical-align: top\">0.0</td>\n",
              "        <td style=\"padding-left: 1em; padding-right: 1em; text-align: center; vertical-align: top\">1.0</td>\n",
              "        <td style=\"padding-left: 1em; padding-right: 1em; text-align: center; vertical-align: top\">0.0</td>\n",
              "    </tr>\n",
              "    <tr>\n",
              "        <td style=\"padding-left: 1em; padding-right: 1em; text-align: center; vertical-align: top\">Baby Trend Diaper Champ</td>\n",
              "        <td style=\"padding-left: 1em; padding-right: 1em; text-align: center; vertical-align: top\">Diaper Champ or Diaper<br>Genie? That was my ...</td>\n",
              "        <td style=\"padding-left: 1em; padding-right: 1em; text-align: center; vertical-align: top\">5.0</td>\n",
              "        <td style=\"padding-left: 1em; padding-right: 1em; text-align: center; vertical-align: top\">{&#x27;either&#x27;: 1.0, &#x27;be&#x27;:<br>1.0, &#x27;t&#x27;: 1.0, &#x27;not&#x27;: ...</td>\n",
              "        <td style=\"padding-left: 1em; padding-right: 1em; text-align: center; vertical-align: top\">0.0</td>\n",
              "        <td style=\"padding-left: 1em; padding-right: 1em; text-align: center; vertical-align: top\">1.0</td>\n",
              "        <td style=\"padding-left: 1em; padding-right: 1em; text-align: center; vertical-align: top\">0.0</td>\n",
              "    </tr>\n",
              "    <tr>\n",
              "        <td style=\"padding-left: 1em; padding-right: 1em; text-align: center; vertical-align: top\">Baby Trend Diaper Champ</td>\n",
              "        <td style=\"padding-left: 1em; padding-right: 1em; text-align: center; vertical-align: top\">I am one of those super-<br>critical shoppers who ...</td>\n",
              "        <td style=\"padding-left: 1em; padding-right: 1em; text-align: center; vertical-align: top\">5.0</td>\n",
              "        <td style=\"padding-left: 1em; padding-right: 1em; text-align: center; vertical-align: top\">{&#x27;hope&#x27;: 1.0, &#x27;make&#x27;:<br>1.0, &#x27;slower&#x27;: 1.0, ...</td>\n",
              "        <td style=\"padding-left: 1em; padding-right: 1em; text-align: center; vertical-align: top\">0.0</td>\n",
              "        <td style=\"padding-left: 1em; padding-right: 1em; text-align: center; vertical-align: top\">0.0</td>\n",
              "        <td style=\"padding-left: 1em; padding-right: 1em; text-align: center; vertical-align: top\">0.0</td>\n",
              "    </tr>\n",
              "    <tr>\n",
              "        <td style=\"padding-left: 1em; padding-right: 1em; text-align: center; vertical-align: top\">Baby Trend Diaper Champ</td>\n",
              "        <td style=\"padding-left: 1em; padding-right: 1em; text-align: center; vertical-align: top\">I LOOOVE this diaper<br>pail!  Its the easies ...</td>\n",
              "        <td style=\"padding-left: 1em; padding-right: 1em; text-align: center; vertical-align: top\">5.0</td>\n",
              "        <td style=\"padding-left: 1em; padding-right: 1em; text-align: center; vertical-align: top\">{&#x27;buy&#x27;: 1.0, &#x27;product&#x27;:<br>1.0, &#x27;recommend&#x27;: 1.0, ...</td>\n",
              "        <td style=\"padding-left: 1em; padding-right: 1em; text-align: center; vertical-align: top\">0.0</td>\n",
              "        <td style=\"padding-left: 1em; padding-right: 1em; text-align: center; vertical-align: top\">0.0</td>\n",
              "        <td style=\"padding-left: 1em; padding-right: 1em; text-align: center; vertical-align: top\">0.0</td>\n",
              "    </tr>\n",
              "    <tr>\n",
              "        <td style=\"padding-left: 1em; padding-right: 1em; text-align: center; vertical-align: top\">Baby Trend Diaper Champ</td>\n",
              "        <td style=\"padding-left: 1em; padding-right: 1em; text-align: center; vertical-align: top\">As a first time mother, I<br>wanted to get the best ...</td>\n",
              "        <td style=\"padding-left: 1em; padding-right: 1em; text-align: center; vertical-align: top\">5.0</td>\n",
              "        <td style=\"padding-left: 1em; padding-right: 1em; text-align: center; vertical-align: top\">{&#x27;ll&#x27;: 1.0, &#x27;baby&#x27;: 1.0,<br>&#x27;recommended&#x27;: 1.0, &#x27; ...</td>\n",
              "        <td style=\"padding-left: 1em; padding-right: 1em; text-align: center; vertical-align: top\">0.0</td>\n",
              "        <td style=\"padding-left: 1em; padding-right: 1em; text-align: center; vertical-align: top\">0.0</td>\n",
              "        <td style=\"padding-left: 1em; padding-right: 1em; text-align: center; vertical-align: top\">0.0</td>\n",
              "    </tr>\n",
              "    <tr>\n",
              "        <td style=\"padding-left: 1em; padding-right: 1em; text-align: center; vertical-align: top\">Baby Trend Diaper Champ</td>\n",
              "        <td style=\"padding-left: 1em; padding-right: 1em; text-align: center; vertical-align: top\">I see that there are<br>complaints of stinkiness ...</td>\n",
              "        <td style=\"padding-left: 1em; padding-right: 1em; text-align: center; vertical-align: top\">5.0</td>\n",
              "        <td style=\"padding-left: 1em; padding-right: 1em; text-align: center; vertical-align: top\">{&#x27;very&#x27;: 1.0, &#x27;told&#x27;:<br>1.0, &#x27;all&#x27;: 1.0, ...</td>\n",
              "        <td style=\"padding-left: 1em; padding-right: 1em; text-align: center; vertical-align: top\">0.0</td>\n",
              "        <td style=\"padding-left: 1em; padding-right: 1em; text-align: center; vertical-align: top\">0.0</td>\n",
              "        <td style=\"padding-left: 1em; padding-right: 1em; text-align: center; vertical-align: top\">0.0</td>\n",
              "    </tr>\n",
              "    <tr>\n",
              "        <td style=\"padding-left: 1em; padding-right: 1em; text-align: center; vertical-align: top\">Baby Trend Diaper Champ</td>\n",
              "        <td style=\"padding-left: 1em; padding-right: 1em; text-align: center; vertical-align: top\">I have a 10 year old<br>daughter and an 8 month ...</td>\n",
              "        <td style=\"padding-left: 1em; padding-right: 1em; text-align: center; vertical-align: top\">5.0</td>\n",
              "        <td style=\"padding-left: 1em; padding-right: 1em; text-align: center; vertical-align: top\">{&#x27;sorry&#x27;: 1.0, &#x27;be&#x27;: 1.0,<br>&#x27;you&#x27;: 2.0, &#x27;sell&#x27;: 1.0, ...</td>\n",
              "        <td style=\"padding-left: 1em; padding-right: 1em; text-align: center; vertical-align: top\">0.0</td>\n",
              "        <td style=\"padding-left: 1em; padding-right: 1em; text-align: center; vertical-align: top\">0.0</td>\n",
              "        <td style=\"padding-left: 1em; padding-right: 1em; text-align: center; vertical-align: top\">0.0</td>\n",
              "    </tr>\n",
              "</table>\n",
              "<table frame=\"box\" rules=\"cols\">\n",
              "    <tr>\n",
              "        <th style=\"padding-left: 1em; padding-right: 1em; text-align: center\">amazing</th>\n",
              "        <th style=\"padding-left: 1em; padding-right: 1em; text-align: center\">love</th>\n",
              "        <th style=\"padding-left: 1em; padding-right: 1em; text-align: center\">horrible</th>\n",
              "        <th style=\"padding-left: 1em; padding-right: 1em; text-align: center\">bad</th>\n",
              "        <th style=\"padding-left: 1em; padding-right: 1em; text-align: center\">terrible</th>\n",
              "        <th style=\"padding-left: 1em; padding-right: 1em; text-align: center\">awful</th>\n",
              "        <th style=\"padding-left: 1em; padding-right: 1em; text-align: center\">wow</th>\n",
              "        <th style=\"padding-left: 1em; padding-right: 1em; text-align: center\">hate</th>\n",
              "        <th style=\"padding-left: 1em; padding-right: 1em; text-align: center\">sentiment</th>\n",
              "        <th style=\"padding-left: 1em; padding-right: 1em; text-align: center\">predicted_sentiment</th>\n",
              "    </tr>\n",
              "    <tr>\n",
              "        <td style=\"padding-left: 1em; padding-right: 1em; text-align: center; vertical-align: top\">0.0</td>\n",
              "        <td style=\"padding-left: 1em; padding-right: 1em; text-align: center; vertical-align: top\">0.0</td>\n",
              "        <td style=\"padding-left: 1em; padding-right: 1em; text-align: center; vertical-align: top\">0</td>\n",
              "        <td style=\"padding-left: 1em; padding-right: 1em; text-align: center; vertical-align: top\">0.0</td>\n",
              "        <td style=\"padding-left: 1em; padding-right: 1em; text-align: center; vertical-align: top\">0</td>\n",
              "        <td style=\"padding-left: 1em; padding-right: 1em; text-align: center; vertical-align: top\">0</td>\n",
              "        <td style=\"padding-left: 1em; padding-right: 1em; text-align: center; vertical-align: top\">0</td>\n",
              "        <td style=\"padding-left: 1em; padding-right: 1em; text-align: center; vertical-align: top\">0</td>\n",
              "        <td style=\"padding-left: 1em; padding-right: 1em; text-align: center; vertical-align: top\">1</td>\n",
              "        <td style=\"padding-left: 1em; padding-right: 1em; text-align: center; vertical-align: top\">0.9999999999895941</td>\n",
              "    </tr>\n",
              "    <tr>\n",
              "        <td style=\"padding-left: 1em; padding-right: 1em; text-align: center; vertical-align: top\">0.0</td>\n",
              "        <td style=\"padding-left: 1em; padding-right: 1em; text-align: center; vertical-align: top\">1.0</td>\n",
              "        <td style=\"padding-left: 1em; padding-right: 1em; text-align: center; vertical-align: top\">0</td>\n",
              "        <td style=\"padding-left: 1em; padding-right: 1em; text-align: center; vertical-align: top\">0.0</td>\n",
              "        <td style=\"padding-left: 1em; padding-right: 1em; text-align: center; vertical-align: top\">0</td>\n",
              "        <td style=\"padding-left: 1em; padding-right: 1em; text-align: center; vertical-align: top\">0</td>\n",
              "        <td style=\"padding-left: 1em; padding-right: 1em; text-align: center; vertical-align: top\">0</td>\n",
              "        <td style=\"padding-left: 1em; padding-right: 1em; text-align: center; vertical-align: top\">0</td>\n",
              "        <td style=\"padding-left: 1em; padding-right: 1em; text-align: center; vertical-align: top\">1</td>\n",
              "        <td style=\"padding-left: 1em; padding-right: 1em; text-align: center; vertical-align: top\">0.9999999999868131</td>\n",
              "    </tr>\n",
              "    <tr>\n",
              "        <td style=\"padding-left: 1em; padding-right: 1em; text-align: center; vertical-align: top\">0.0</td>\n",
              "        <td style=\"padding-left: 1em; padding-right: 1em; text-align: center; vertical-align: top\">0.0</td>\n",
              "        <td style=\"padding-left: 1em; padding-right: 1em; text-align: center; vertical-align: top\">0</td>\n",
              "        <td style=\"padding-left: 1em; padding-right: 1em; text-align: center; vertical-align: top\">0.0</td>\n",
              "        <td style=\"padding-left: 1em; padding-right: 1em; text-align: center; vertical-align: top\">0</td>\n",
              "        <td style=\"padding-left: 1em; padding-right: 1em; text-align: center; vertical-align: top\">0</td>\n",
              "        <td style=\"padding-left: 1em; padding-right: 1em; text-align: center; vertical-align: top\">0</td>\n",
              "        <td style=\"padding-left: 1em; padding-right: 1em; text-align: center; vertical-align: top\">0</td>\n",
              "        <td style=\"padding-left: 1em; padding-right: 1em; text-align: center; vertical-align: top\">1</td>\n",
              "        <td style=\"padding-left: 1em; padding-right: 1em; text-align: center; vertical-align: top\">0.9999999999465673</td>\n",
              "    </tr>\n",
              "    <tr>\n",
              "        <td style=\"padding-left: 1em; padding-right: 1em; text-align: center; vertical-align: top\">0.0</td>\n",
              "        <td style=\"padding-left: 1em; padding-right: 1em; text-align: center; vertical-align: top\">0.0</td>\n",
              "        <td style=\"padding-left: 1em; padding-right: 1em; text-align: center; vertical-align: top\">0</td>\n",
              "        <td style=\"padding-left: 1em; padding-right: 1em; text-align: center; vertical-align: top\">0.0</td>\n",
              "        <td style=\"padding-left: 1em; padding-right: 1em; text-align: center; vertical-align: top\">0</td>\n",
              "        <td style=\"padding-left: 1em; padding-right: 1em; text-align: center; vertical-align: top\">0</td>\n",
              "        <td style=\"padding-left: 1em; padding-right: 1em; text-align: center; vertical-align: top\">0</td>\n",
              "        <td style=\"padding-left: 1em; padding-right: 1em; text-align: center; vertical-align: top\">0</td>\n",
              "        <td style=\"padding-left: 1em; padding-right: 1em; text-align: center; vertical-align: top\">1</td>\n",
              "        <td style=\"padding-left: 1em; padding-right: 1em; text-align: center; vertical-align: top\">0.9999999999302822</td>\n",
              "    </tr>\n",
              "    <tr>\n",
              "        <td style=\"padding-left: 1em; padding-right: 1em; text-align: center; vertical-align: top\">0.0</td>\n",
              "        <td style=\"padding-left: 1em; padding-right: 1em; text-align: center; vertical-align: top\">0.0</td>\n",
              "        <td style=\"padding-left: 1em; padding-right: 1em; text-align: center; vertical-align: top\">0</td>\n",
              "        <td style=\"padding-left: 1em; padding-right: 1em; text-align: center; vertical-align: top\">0.0</td>\n",
              "        <td style=\"padding-left: 1em; padding-right: 1em; text-align: center; vertical-align: top\">0</td>\n",
              "        <td style=\"padding-left: 1em; padding-right: 1em; text-align: center; vertical-align: top\">0</td>\n",
              "        <td style=\"padding-left: 1em; padding-right: 1em; text-align: center; vertical-align: top\">0</td>\n",
              "        <td style=\"padding-left: 1em; padding-right: 1em; text-align: center; vertical-align: top\">0</td>\n",
              "        <td style=\"padding-left: 1em; padding-right: 1em; text-align: center; vertical-align: top\">1</td>\n",
              "        <td style=\"padding-left: 1em; padding-right: 1em; text-align: center; vertical-align: top\">0.9999999999174133</td>\n",
              "    </tr>\n",
              "    <tr>\n",
              "        <td style=\"padding-left: 1em; padding-right: 1em; text-align: center; vertical-align: top\">0.0</td>\n",
              "        <td style=\"padding-left: 1em; padding-right: 1em; text-align: center; vertical-align: top\">1.0</td>\n",
              "        <td style=\"padding-left: 1em; padding-right: 1em; text-align: center; vertical-align: top\">0</td>\n",
              "        <td style=\"padding-left: 1em; padding-right: 1em; text-align: center; vertical-align: top\">0.0</td>\n",
              "        <td style=\"padding-left: 1em; padding-right: 1em; text-align: center; vertical-align: top\">0</td>\n",
              "        <td style=\"padding-left: 1em; padding-right: 1em; text-align: center; vertical-align: top\">0</td>\n",
              "        <td style=\"padding-left: 1em; padding-right: 1em; text-align: center; vertical-align: top\">0</td>\n",
              "        <td style=\"padding-left: 1em; padding-right: 1em; text-align: center; vertical-align: top\">0</td>\n",
              "        <td style=\"padding-left: 1em; padding-right: 1em; text-align: center; vertical-align: top\">1</td>\n",
              "        <td style=\"padding-left: 1em; padding-right: 1em; text-align: center; vertical-align: top\">0.9999999998430963</td>\n",
              "    </tr>\n",
              "    <tr>\n",
              "        <td style=\"padding-left: 1em; padding-right: 1em; text-align: center; vertical-align: top\">0.0</td>\n",
              "        <td style=\"padding-left: 1em; padding-right: 1em; text-align: center; vertical-align: top\">1.0</td>\n",
              "        <td style=\"padding-left: 1em; padding-right: 1em; text-align: center; vertical-align: top\">0</td>\n",
              "        <td style=\"padding-left: 1em; padding-right: 1em; text-align: center; vertical-align: top\">0.0</td>\n",
              "        <td style=\"padding-left: 1em; padding-right: 1em; text-align: center; vertical-align: top\">0</td>\n",
              "        <td style=\"padding-left: 1em; padding-right: 1em; text-align: center; vertical-align: top\">0</td>\n",
              "        <td style=\"padding-left: 1em; padding-right: 1em; text-align: center; vertical-align: top\">0</td>\n",
              "        <td style=\"padding-left: 1em; padding-right: 1em; text-align: center; vertical-align: top\">0</td>\n",
              "        <td style=\"padding-left: 1em; padding-right: 1em; text-align: center; vertical-align: top\">1</td>\n",
              "        <td style=\"padding-left: 1em; padding-right: 1em; text-align: center; vertical-align: top\">0.9999999997360196</td>\n",
              "    </tr>\n",
              "    <tr>\n",
              "        <td style=\"padding-left: 1em; padding-right: 1em; text-align: center; vertical-align: top\">0.0</td>\n",
              "        <td style=\"padding-left: 1em; padding-right: 1em; text-align: center; vertical-align: top\">1.0</td>\n",
              "        <td style=\"padding-left: 1em; padding-right: 1em; text-align: center; vertical-align: top\">0</td>\n",
              "        <td style=\"padding-left: 1em; padding-right: 1em; text-align: center; vertical-align: top\">0.0</td>\n",
              "        <td style=\"padding-left: 1em; padding-right: 1em; text-align: center; vertical-align: top\">0</td>\n",
              "        <td style=\"padding-left: 1em; padding-right: 1em; text-align: center; vertical-align: top\">0</td>\n",
              "        <td style=\"padding-left: 1em; padding-right: 1em; text-align: center; vertical-align: top\">0</td>\n",
              "        <td style=\"padding-left: 1em; padding-right: 1em; text-align: center; vertical-align: top\">0</td>\n",
              "        <td style=\"padding-left: 1em; padding-right: 1em; text-align: center; vertical-align: top\">1</td>\n",
              "        <td style=\"padding-left: 1em; padding-right: 1em; text-align: center; vertical-align: top\">0.9999999995664315</td>\n",
              "    </tr>\n",
              "    <tr>\n",
              "        <td style=\"padding-left: 1em; padding-right: 1em; text-align: center; vertical-align: top\">0.0</td>\n",
              "        <td style=\"padding-left: 1em; padding-right: 1em; text-align: center; vertical-align: top\">0.0</td>\n",
              "        <td style=\"padding-left: 1em; padding-right: 1em; text-align: center; vertical-align: top\">0</td>\n",
              "        <td style=\"padding-left: 1em; padding-right: 1em; text-align: center; vertical-align: top\">0.0</td>\n",
              "        <td style=\"padding-left: 1em; padding-right: 1em; text-align: center; vertical-align: top\">0</td>\n",
              "        <td style=\"padding-left: 1em; padding-right: 1em; text-align: center; vertical-align: top\">0</td>\n",
              "        <td style=\"padding-left: 1em; padding-right: 1em; text-align: center; vertical-align: top\">0</td>\n",
              "        <td style=\"padding-left: 1em; padding-right: 1em; text-align: center; vertical-align: top\">0</td>\n",
              "        <td style=\"padding-left: 1em; padding-right: 1em; text-align: center; vertical-align: top\">1</td>\n",
              "        <td style=\"padding-left: 1em; padding-right: 1em; text-align: center; vertical-align: top\">0.9999999985015902</td>\n",
              "    </tr>\n",
              "    <tr>\n",
              "        <td style=\"padding-left: 1em; padding-right: 1em; text-align: center; vertical-align: top\">0.0</td>\n",
              "        <td style=\"padding-left: 1em; padding-right: 1em; text-align: center; vertical-align: top\">2.0</td>\n",
              "        <td style=\"padding-left: 1em; padding-right: 1em; text-align: center; vertical-align: top\">0</td>\n",
              "        <td style=\"padding-left: 1em; padding-right: 1em; text-align: center; vertical-align: top\">0.0</td>\n",
              "        <td style=\"padding-left: 1em; padding-right: 1em; text-align: center; vertical-align: top\">0</td>\n",
              "        <td style=\"padding-left: 1em; padding-right: 1em; text-align: center; vertical-align: top\">0</td>\n",
              "        <td style=\"padding-left: 1em; padding-right: 1em; text-align: center; vertical-align: top\">0</td>\n",
              "        <td style=\"padding-left: 1em; padding-right: 1em; text-align: center; vertical-align: top\">0</td>\n",
              "        <td style=\"padding-left: 1em; padding-right: 1em; text-align: center; vertical-align: top\">1</td>\n",
              "        <td style=\"padding-left: 1em; padding-right: 1em; text-align: center; vertical-align: top\">0.999999998056851</td>\n",
              "    </tr>\n",
              "</table>\n",
              "[298 rows x 17 columns]<br/>Note: Only the head of the SFrame is printed.<br/>You can use print_rows(num_rows=m, num_columns=n) to print more rows and columns.\n",
              "</div>"
            ],
            "text/plain": [
              "Columns:\n",
              "\tname\tstr\n",
              "\treview\tstr\n",
              "\trating\tfloat\n",
              "\tword_count\tdict\n",
              "\tawesome\tfloat\n",
              "\tgreat\tfloat\n",
              "\tfantastic\tfloat\n",
              "\tamazing\tfloat\n",
              "\tlove\tfloat\n",
              "\thorrible\tint\n",
              "\tbad\tfloat\n",
              "\tterrible\tint\n",
              "\tawful\tint\n",
              "\twow\tint\n",
              "\thate\tint\n",
              "\tsentiment\tint\n",
              "\tpredicted_sentiment\tfloat\n",
              "\n",
              "Rows: 298\n",
              "\n",
              "Data:\n",
              "+-------------------------+-------------------------------+--------+\n",
              "|           name          |             review            | rating |\n",
              "+-------------------------+-------------------------------+--------+\n",
              "| Baby Trend Diaper Champ | I read a review below that... |  4.0   |\n",
              "| Baby Trend Diaper Champ | I have never written a rev... |  5.0   |\n",
              "| Baby Trend Diaper Champ | I originally put this item... |  5.0   |\n",
              "| Baby Trend Diaper Champ | Baby Luke can turn a clean... |  5.0   |\n",
              "| Baby Trend Diaper Champ | Diaper Champ or Diaper Gen... |  5.0   |\n",
              "| Baby Trend Diaper Champ | I am one of those super-cr... |  5.0   |\n",
              "| Baby Trend Diaper Champ | I LOOOVE this diaper pail!... |  5.0   |\n",
              "| Baby Trend Diaper Champ | As a first time mother, I ... |  5.0   |\n",
              "| Baby Trend Diaper Champ | I see that there are compl... |  5.0   |\n",
              "| Baby Trend Diaper Champ | I have a 10 year old daugh... |  5.0   |\n",
              "+-------------------------+-------------------------------+--------+\n",
              "+-------------------------------+---------+-------+-----------+---------+------+\n",
              "|           word_count          | awesome | great | fantastic | amazing | love |\n",
              "+-------------------------------+---------+-------+-----------+---------+------+\n",
              "| {'key': 1.0, 'have': 1.0, ... |   0.0   |  0.0  |    0.0    |   0.0   | 0.0  |\n",
              "| {'priceless': 1.0, 'knows'... |   0.0   |  0.0  |    0.0    |   0.0   | 1.0  |\n",
              "| {'price': 1.0, 'suggestion... |   0.0   |  0.0  |    0.0    |   0.0   | 0.0  |\n",
              "| {'around': 1.0, 'any': 1.0... |   0.0   |  1.0  |    0.0    |   0.0   | 0.0  |\n",
              "| {'either': 1.0, 'be': 1.0,... |   0.0   |  1.0  |    0.0    |   0.0   | 0.0  |\n",
              "| {'hope': 1.0, 'make': 1.0,... |   0.0   |  0.0  |    0.0    |   0.0   | 1.0  |\n",
              "| {'buy': 1.0, 'product': 1.... |   0.0   |  0.0  |    0.0    |   0.0   | 1.0  |\n",
              "| {'ll': 1.0, 'baby': 1.0, '... |   0.0   |  0.0  |    0.0    |   0.0   | 1.0  |\n",
              "| {'very': 1.0, 'told': 1.0,... |   0.0   |  0.0  |    0.0    |   0.0   | 0.0  |\n",
              "| {'sorry': 1.0, 'be': 1.0, ... |   0.0   |  0.0  |    0.0    |   0.0   | 2.0  |\n",
              "+-------------------------------+---------+-------+-----------+---------+------+\n",
              "+----------+-----+----------+-------+-----+------+-----------+\n",
              "| horrible | bad | terrible | awful | wow | hate | sentiment |\n",
              "+----------+-----+----------+-------+-----+------+-----------+\n",
              "|    0     | 0.0 |    0     |   0   |  0  |  0   |     1     |\n",
              "|    0     | 0.0 |    0     |   0   |  0  |  0   |     1     |\n",
              "|    0     | 0.0 |    0     |   0   |  0  |  0   |     1     |\n",
              "|    0     | 0.0 |    0     |   0   |  0  |  0   |     1     |\n",
              "|    0     | 0.0 |    0     |   0   |  0  |  0   |     1     |\n",
              "|    0     | 0.0 |    0     |   0   |  0  |  0   |     1     |\n",
              "|    0     | 0.0 |    0     |   0   |  0  |  0   |     1     |\n",
              "|    0     | 0.0 |    0     |   0   |  0  |  0   |     1     |\n",
              "|    0     | 0.0 |    0     |   0   |  0  |  0   |     1     |\n",
              "|    0     | 0.0 |    0     |   0   |  0  |  0   |     1     |\n",
              "+----------+-----+----------+-------+-----+------+-----------+\n",
              "+---------------------+\n",
              "| predicted_sentiment |\n",
              "+---------------------+\n",
              "|  0.9999999999895941 |\n",
              "|  0.9999999999868131 |\n",
              "|  0.9999999999465673 |\n",
              "|  0.9999999999302822 |\n",
              "|  0.9999999999174133 |\n",
              "|  0.9999999998430963 |\n",
              "|  0.9999999997360196 |\n",
              "|  0.9999999995664315 |\n",
              "|  0.9999999985015902 |\n",
              "|  0.999999998056851  |\n",
              "+---------------------+\n",
              "[298 rows x 17 columns]\n",
              "Note: Only the head of the SFrame is printed.\n",
              "You can use print_rows(num_rows=m, num_columns=n) to print more rows and columns."
            ]
          },
          "metadata": {
            "tags": []
          },
          "execution_count": 39
        }
      ]
    },
    {
      "cell_type": "code",
      "metadata": {
        "id": "4xD1cl2B-pi7",
        "colab_type": "code",
        "colab": {}
      },
      "source": [
        ""
      ],
      "execution_count": 0,
      "outputs": []
    }
  ]
}