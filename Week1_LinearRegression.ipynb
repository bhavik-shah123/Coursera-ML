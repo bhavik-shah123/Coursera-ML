{
  "nbformat": 4,
  "nbformat_minor": 0,
  "metadata": {
    "colab": {
      "name": "Week1_LinearRegression.ipynb",
      "provenance": [],
      "collapsed_sections": [],
      "mount_file_id": "1Z4ORAqzHKDsoVQ7vanVTs4K5qphu8aqZ",
      "authorship_tag": "ABX9TyP6dDDimQXYllGAmQLL/Gag",
      "include_colab_link": true
    },
    "kernelspec": {
      "name": "python3",
      "display_name": "Python 3"
    }
  },
  "cells": [
    {
      "cell_type": "markdown",
      "metadata": {
        "id": "view-in-github",
        "colab_type": "text"
      },
      "source": [
        "<a href=\"https://colab.research.google.com/github/bhavik-shah123/Coursera-ML/blob/master/Week1_LinearRegression.ipynb\" target=\"_parent\"><img src=\"https://colab.research.google.com/assets/colab-badge.svg\" alt=\"Open In Colab\"/></a>"
      ]
    },
    {
      "cell_type": "markdown",
      "metadata": {
        "id": "6wFfcHatlxQV",
        "colab_type": "text"
      },
      "source": [
        "## We are performing simple linear regression on a housing dataset to predict the housing prices and the behaviour based on the features"
      ]
    },
    {
      "cell_type": "code",
      "metadata": {
        "id": "BDighhx8lRAQ",
        "colab_type": "code",
        "colab": {}
      },
      "source": [
        "import numpy as np\n",
        "import pandas as pd\n",
        "import matplotlib.pyplot as plt\n",
        "from scipy import *"
      ],
      "execution_count": 0,
      "outputs": []
    },
    {
      "cell_type": "code",
      "metadata": {
        "id": "C3HNF8tKmQ3O",
        "colab_type": "code",
        "colab": {}
      },
      "source": [
        "test_data = pd.read_csv('/content/drive/My Drive/Coursera ML/Course2/Week1/kc_house_test_data.csv')\n",
        "train_data = pd.read_csv('/content/drive/My Drive/Coursera ML/Course2/Week1/kc_house_train_data.csv')"
      ],
      "execution_count": 0,
      "outputs": []
    },
    {
      "cell_type": "markdown",
      "metadata": {
        "id": "FMlKpekLnBEK",
        "colab_type": "text"
      },
      "source": [
        "#### Write a generic function that accepts a column of data (e.g, an SArray) ‘input_feature’ and another column ‘output’ and returns the Simple Linear Regression parameters ‘intercept’ and ‘slope’. Use the closed form solution from lecture to calculate the slope and intercept."
      ]
    },
    {
      "cell_type": "code",
      "metadata": {
        "id": "uVm9cVEKmjnZ",
        "colab_type": "code",
        "colab": {
          "base_uri": "https://localhost:8080/",
          "height": 34
        },
        "outputId": "56e0373e-48ad-4b77-950d-b3ced3a0cad3"
      },
      "source": [
        "def simple_linear_regression(input_feature,output):\n",
        "  N = len(input_feature)\n",
        "  sum_X = np.sum(input_feature)\n",
        "  sum_y = np.sum(output)\n",
        "  sum_x_squared = np.sum(input_feature*input_feature)\n",
        "  sum_x_y = np.sum(input_feature*output)\n",
        "  numerator = (sum_x_y) - (1/N)*((sum_X)*(sum_y))\n",
        "  denominator = (sum_x_squared) - (1/N)*((sum_X)*(sum_X))\n",
        "  slope = numerator/denominator\n",
        "  intercept = (1/N)*(sum_y) - (slope*(1/N)*sum_X)\n",
        "  return(intercept,slope)\n",
        "\n",
        "input_feature = train_data['sqft_living']\n",
        "output = train_data['price']\n",
        "intercept,slope = simple_linear_regression(input_feature,output)\n",
        "print(intercept,slope)"
      ],
      "execution_count": 15,
      "outputs": [
        {
          "output_type": "stream",
          "text": [
            "-47116.07907289418 281.9588396303426\n"
          ],
          "name": "stdout"
        }
      ]
    },
    {
      "cell_type": "markdown",
      "metadata": {
        "id": "mJa8cK_wrQ0b",
        "colab_type": "text"
      },
      "source": [
        "### Write a function that accepts a column of data ‘input_feature’, the ‘slope’, and the ‘intercept’ you learned, and returns an a column of predictions ‘predicted_output’ for each entry in the input column"
      ]
    },
    {
      "cell_type": "code",
      "metadata": {
        "id": "LCKgrHf_mlXS",
        "colab_type": "code",
        "colab": {
          "base_uri": "https://localhost:8080/",
          "height": 34
        },
        "outputId": "2509dadf-3ce9-41c6-e278-5e332364ddb3"
      },
      "source": [
        "def get_regression_prediction(input_feature,intercept,slope):\n",
        "  predicted_output = intercept + (slope*input_feature)\n",
        "  return(predicted_output)\n",
        "\n",
        "input_feature1 = 2650\n",
        "predicted_output = get_regression_prediction(input_feature1,intercept,slope)\n",
        "print(predicted_output)"
      ],
      "execution_count": 18,
      "outputs": [
        {
          "output_type": "stream",
          "text": [
            "700074.8459475137\n"
          ],
          "name": "stdout"
        }
      ]
    },
    {
      "cell_type": "markdown",
      "metadata": {
        "id": "9Kz4qsJ9sXCl",
        "colab_type": "text"
      },
      "source": [
        "### Write a function that accepts column of data: ‘input_feature’, and ‘output’ and the regression parameters ‘slope’ and ‘intercept’ and outputs the Residual Sum of Squares (RSS). "
      ]
    },
    {
      "cell_type": "code",
      "metadata": {
        "id": "7C18HaUhr-pq",
        "colab_type": "code",
        "colab": {}
      },
      "source": [
        "def get_residual_sum_of_squares(input_feature,output,intercept,slope):\n",
        "  pred_op = intercept+(slope*input_feature)\n",
        "  residual = pred_op-output\n",
        "  RSS = (residual*residual).sum()\n",
        "  return(RSS)"
      ],
      "execution_count": 0,
      "outputs": []
    },
    {
      "cell_type": "code",
      "metadata": {
        "id": "zpOCcE5TxSkG",
        "colab_type": "code",
        "colab": {
          "base_uri": "https://localhost:8080/",
          "height": 34
        },
        "outputId": "b50f5472-8450-4ba9-b488-2eff2921232c"
      },
      "source": [
        "rss_prices_on_sqft = get_residual_sum_of_squares(train_data['sqft_living'], train_data['price'], intercept, slope)\n",
        "print('The RSS of predicting Prices based on Square Feet is : ' + str(rss_prices_on_sqft))"
      ],
      "execution_count": 29,
      "outputs": [
        {
          "output_type": "stream",
          "text": [
            "The RSS of predicting Prices based on Square Feet is : 1201918354177283.0\n"
          ],
          "name": "stdout"
        }
      ]
    },
    {
      "cell_type": "markdown",
      "metadata": {
        "id": "wW7U1dwL0rPf",
        "colab_type": "text"
      },
      "source": [
        "### Now we predict the sqaure feet if a certain amount is given"
      ]
    },
    {
      "cell_type": "code",
      "metadata": {
        "id": "Cb2AhtqvyAPc",
        "colab_type": "code",
        "colab": {
          "base_uri": "https://localhost:8080/",
          "height": 34
        },
        "outputId": "4ec3e334-f29d-41a7-da8b-d7450c1033cf"
      },
      "source": [
        "def inverse_regression_predictions(output, intercept, slope):\n",
        "    # solve output = intercept + slope*input_feature for input_feature. Use this equation to compute the inverse predictions:\n",
        "    estimated_feature = (output - intercept)/slope\n",
        "    return estimated_feature\n",
        "\n",
        "my_house_price = 800000\n",
        "estimated_squarefeet = inverse_regression_predictions(my_house_price,intercept,slope)\n",
        "print(\"The estimated squarefeet for a house worth $%.2f is %d\" % (my_house_price, estimated_squarefeet))"
      ],
      "execution_count": 31,
      "outputs": [
        {
          "output_type": "stream",
          "text": [
            "The estimated squarefeet for a house worth $800000.00 is 3004\n"
          ],
          "name": "stdout"
        }
      ]
    },
    {
      "cell_type": "markdown",
      "metadata": {
        "id": "Qmf2fgTs076v",
        "colab_type": "text"
      },
      "source": [
        "# New model: predicting price based on number of bedrooms"
      ]
    },
    {
      "cell_type": "code",
      "metadata": {
        "id": "UBDE9uFO02lz",
        "colab_type": "code",
        "colab": {
          "base_uri": "https://localhost:8080/",
          "height": 50
        },
        "outputId": "25682161-833c-4e2e-ec39-c1132ac030ec"
      },
      "source": [
        "sqft_intercept, sqft_slope = simple_linear_regression(train_data['bedrooms'], train_data['price'])\n",
        "\n",
        "print(\"Intercept: \" + str(sqft_intercept))\n",
        "print(\"Slope: \" + str(sqft_slope))"
      ],
      "execution_count": 33,
      "outputs": [
        {
          "output_type": "stream",
          "text": [
            "Intercept: 109473.17762295878\n",
            "Slope: 127588.9529339881\n"
          ],
          "name": "stdout"
        }
      ]
    },
    {
      "cell_type": "code",
      "metadata": {
        "id": "nzw2CI3q1FMc",
        "colab_type": "code",
        "colab": {
          "base_uri": "https://localhost:8080/",
          "height": 34
        },
        "outputId": "7ffca7c4-ce34-4596-eb65-ed69fddef318"
      },
      "source": [
        "sqft_intercept, sqft_slope = simple_linear_regression(train_data['bedrooms'], train_data['price'])\n",
        "rss_prices_on_bedrooms = get_residual_sum_of_squares(test_data['bedrooms'], test_data['price'], sqft_intercept, sqft_slope)\n",
        "print('The RSS of predicting Prices based on Bedrooms is : ' + str(rss_prices_on_bedrooms))"
      ],
      "execution_count": 34,
      "outputs": [
        {
          "output_type": "stream",
          "text": [
            "The RSS of predicting Prices based on Bedrooms is : 493364585960301.0\n"
          ],
          "name": "stdout"
        }
      ]
    },
    {
      "cell_type": "code",
      "metadata": {
        "id": "-Rxu2QZt1Me_",
        "colab_type": "code",
        "colab": {
          "base_uri": "https://localhost:8080/",
          "height": 34
        },
        "outputId": "df984cde-acca-4fd0-cd3e-68b603fa870d"
      },
      "source": [
        "# Compute RSS when using squarfeet on TEST data:\n",
        "sqft_intercept, sqft_slope = simple_linear_regression(train_data['sqft_living'], train_data['price'])\n",
        "rss_prices_on_sqft = get_residual_sum_of_squares(test_data['sqft_living'], test_data['price'], sqft_intercept, sqft_slope)\n",
        "print('The RSS of predicting Prices based on Square Feet is : ' + str(rss_prices_on_sqft))"
      ],
      "execution_count": 35,
      "outputs": [
        {
          "output_type": "stream",
          "text": [
            "The RSS of predicting Prices based on Square Feet is : 275402933617812.12\n"
          ],
          "name": "stdout"
        }
      ]
    },
    {
      "cell_type": "code",
      "metadata": {
        "id": "OVY093v61PkS",
        "colab_type": "code",
        "colab": {}
      },
      "source": [
        ""
      ],
      "execution_count": 0,
      "outputs": []
    }
  ]
}